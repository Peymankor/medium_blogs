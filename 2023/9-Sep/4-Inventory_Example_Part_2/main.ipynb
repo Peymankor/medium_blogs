{
 "cells": [
  {
   "cell_type": "markdown",
   "metadata": {},
   "source": [
    "## Inventory Optimization with Data Science: Hands-On Tutorial with Python\n",
    "\n",
    "### Part 2: A Gentle Introduction to Implementing the Markov Process for Inventory Optimization."
   ]
  },
  {
   "cell_type": "code",
   "execution_count": 31,
   "metadata": {},
   "outputs": [
    {
     "data": {
      "text/html": [
       "<pre style=\"white-space:pre;overflow-x:auto;line-height:normal;font-family:Menlo,'DejaVu Sans Mono',consolas,'Courier New',monospace\">\n",
       "<span style=\"font-weight: bold\">{</span>\n",
       "    <span style=\"color: #008000; text-decoration-color: #008000\">'Current State A'</span>: <span style=\"font-weight: bold\">{</span>\n",
       "        <span style=\"color: #008000; text-decoration-color: #008000\">'NextS1fromA'</span>: <span style=\"font-weight: bold\">(</span><span style=\"color: #008000; text-decoration-color: #008000\">'PNextS1fromA'</span>, <span style=\"color: #008000; text-decoration-color: #008000\">'Reward1'</span><span style=\"font-weight: bold\">)</span>,\n",
       "        <span style=\"color: #008000; text-decoration-color: #008000\">'NextS2fromA, from A'</span>: <span style=\"font-weight: bold\">(</span><span style=\"color: #008000; text-decoration-color: #008000\">'PNextS2fromA'</span>, <span style=\"color: #008000; text-decoration-color: #008000\">'Reward2'</span><span style=\"font-weight: bold\">)</span>\n",
       "    <span style=\"font-weight: bold\">}</span>,\n",
       "    <span style=\"color: #008000; text-decoration-color: #008000\">'Current State B'</span>: <span style=\"font-weight: bold\">{</span>\n",
       "        <span style=\"color: #008000; text-decoration-color: #008000\">'NextS1fromB'</span>: <span style=\"font-weight: bold\">(</span><span style=\"color: #008000; text-decoration-color: #008000\">'PNextS1fromB'</span>, <span style=\"color: #008000; text-decoration-color: #008000\">'Reward3'</span><span style=\"font-weight: bold\">)</span>,\n",
       "        <span style=\"color: #008000; text-decoration-color: #008000\">'NextS2fromB'</span>: <span style=\"font-weight: bold\">(</span><span style=\"color: #008000; text-decoration-color: #008000\">'PNextS2fromB'</span>, <span style=\"color: #008000; text-decoration-color: #008000\">'Reward4'</span><span style=\"font-weight: bold\">)</span>\n",
       "    <span style=\"font-weight: bold\">}</span>\n",
       "<span style=\"font-weight: bold\">}</span>\n",
       "</pre>\n"
      ],
      "text/plain": [
       "\n",
       "\u001b[1m{\u001b[0m\n",
       "    \u001b[32m'Current State A'\u001b[0m: \u001b[1m{\u001b[0m\n",
       "        \u001b[32m'NextS1fromA'\u001b[0m: \u001b[1m(\u001b[0m\u001b[32m'PNextS1fromA'\u001b[0m, \u001b[32m'Reward1'\u001b[0m\u001b[1m)\u001b[0m,\n",
       "        \u001b[32m'NextS2fromA, from A'\u001b[0m: \u001b[1m(\u001b[0m\u001b[32m'PNextS2fromA'\u001b[0m, \u001b[32m'Reward2'\u001b[0m\u001b[1m)\u001b[0m\n",
       "    \u001b[1m}\u001b[0m,\n",
       "    \u001b[32m'Current State B'\u001b[0m: \u001b[1m{\u001b[0m\n",
       "        \u001b[32m'NextS1fromB'\u001b[0m: \u001b[1m(\u001b[0m\u001b[32m'PNextS1fromB'\u001b[0m, \u001b[32m'Reward3'\u001b[0m\u001b[1m)\u001b[0m,\n",
       "        \u001b[32m'NextS2fromB'\u001b[0m: \u001b[1m(\u001b[0m\u001b[32m'PNextS2fromB'\u001b[0m, \u001b[32m'Reward4'\u001b[0m\u001b[1m)\u001b[0m\n",
       "    \u001b[1m}\u001b[0m\n",
       "\u001b[1m}\u001b[0m\n"
      ]
     },
     "metadata": {},
     "output_type": "display_data"
    }
   ],
   "source": [
    "from typing import Dict\n",
    "\n",
    "from rich import pretty\n",
    "pretty.install()\n",
    "\n",
    "# need numpy to do some numeric calculation\n",
    "import numpy as np\n",
    "\n",
    "# poisson is used to find pdf of Poisson distribution \n",
    "from scipy.stats import poisson\n",
    "\n",
    "import pandas as pd\n",
    "import numpy as np\n",
    "\n",
    "MarkovRewProcessDict = {\"Current State A\":{\"NextS1fromA\": (\"PNextS1fromA\",\"Reward1\")\n",
    "                                           ,\"NextS2fromA, from A\": (\"PNextS2fromA\",\"Reward2\")},\n",
    "                    \n",
    "                     \"Current State B\":{\"NextS1fromB\": (\"PNextS1fromB\",\"Reward3\"),\n",
    "                                        \"NextS2fromB\": (\"PNextS2fromB\",\"Reward4\")}}\n",
    "\n",
    "MarkovRewProcessDict"
   ]
  },
  {
   "cell_type": "code",
   "execution_count": 37,
   "metadata": {},
   "outputs": [
    {
     "name": "stdout",
     "output_type": "stream",
     "text": [
      "The Current state is: (0, 0)\n",
      "The Next State is (0, 2) \n",
      "with Probability of: 1.0                \n",
      "and Reward: -10.0\n",
      "The Current state is: (0, 1)\n",
      "The Next State is (1, 1) \n",
      "with Probability of: 0.3678794411714424                \n",
      "and Reward: 0\n",
      "The Next State is (0, 1) \n",
      "with Probability of: 0.6321205588285576                \n",
      "and Reward: -3.6787944117144225\n",
      "The Current state is: (0, 2)\n",
      "The Next State is (2, 0) \n",
      "with Probability of: 0.3678794411714424                \n",
      "and Reward: 0\n",
      "The Next State is (1, 0) \n",
      "with Probability of: 0.3678794411714424                \n",
      "and Reward: 0\n",
      "The Next State is (0, 0) \n",
      "with Probability of: 0.26424111765711533                \n",
      "and Reward: -1.03638323514327\n",
      "The Current state is: (1, 0)\n",
      "The Next State is (1, 1) \n",
      "with Probability of: 0.3678794411714424                \n",
      "and Reward: -1\n",
      "The Next State is (0, 1) \n",
      "with Probability of: 0.6321205588285576                \n",
      "and Reward: -4.6787944117144225\n",
      "The Current state is: (1, 1)\n",
      "The Next State is (2, 0) \n",
      "with Probability of: 0.3678794411714424                \n",
      "and Reward: -1\n",
      "The Next State is (1, 0) \n",
      "with Probability of: 0.3678794411714424                \n",
      "and Reward: -1\n",
      "The Next State is (0, 0) \n",
      "with Probability of: 0.26424111765711533                \n",
      "and Reward: -2.03638323514327\n",
      "The Current state is: (2, 0)\n",
      "The Next State is (2, 0) \n",
      "with Probability of: 0.3678794411714424                \n",
      "and Reward: -2\n",
      "The Next State is (1, 0) \n",
      "with Probability of: 0.3678794411714424                \n",
      "and Reward: -2\n",
      "The Next State is (0, 0) \n",
      "with Probability of: 0.26424111765711533                \n",
      "and Reward: -3.03638323514327\n"
     ]
    }
   ],
   "source": [
    "for (state, value) in MarkovRewProcessDict.items():\n",
    "    \n",
    "    print(\"The Current state is: {}\".format(state))\n",
    "    \n",
    "    for (next_state, (trans_prob,reward)) in value.items():\n",
    "        \n",
    "        print(\"The Next State is {} \\nwith Probability of: {} \\\n",
    "               \\nand Reward: {}\".format(next_state, trans_prob, reward))\n",
    "    "
   ]
  },
  {
   "cell_type": "markdown",
   "metadata": {},
   "source": [
    "## Reward Modeling (two cases)"
   ]
  },
  {
   "cell_type": "markdown",
   "metadata": {},
   "source": [
    "- Case for \n",
    "- $0 \\leq i \\leq \\alpha + \\beta -1$ "
   ]
  },
  {
   "cell_type": "markdown",
   "metadata": {},
   "source": [
    "$$R((\\alpha , \\beta) \\to ((\\alpha + \\beta) -i, C-(\\alpha + \\beta) ) = -h\\alpha$$"
   ]
  },
  {
   "cell_type": "markdown",
   "metadata": {},
   "source": [
    "- For the case demand excedding $(\\alpha + \\beta)$"
   ]
  },
  {
   "cell_type": "markdown",
   "metadata": {},
   "source": [
    "- $$R((\\alpha , \\beta) \\to (0, C-(\\alpha + \\beta) ) = -h\\alpha -p(\\sum_{j=\\alpha + \\beta +1}^{\\infin}f(j)(j-(\\alpha +\\beta)))$$\n",
    "- $$=h\\alpha-p(\\lambda(1-F(\\alpha+\\beta-1)) - (\\alpha+\\beta)(1-F(\\alpha+\\beta)))$$"
   ]
  },
  {
   "cell_type": "code",
   "execution_count": 65,
   "metadata": {},
   "outputs": [],
   "source": [
    "\n",
    "MarkovRewProcessDict: Dict[tuple, Dict[tuple, tuple]] = {}\n",
    "\n",
    "user_capacity = 2\n",
    "user_poisson_lambda = 1.0\n",
    "\n",
    "holding_cost = 1\n",
    "stockout_cost = 10\n",
    "\n",
    "gamma = 0.9 \n"
   ]
  },
  {
   "cell_type": "code",
   "execution_count": 39,
   "metadata": {},
   "outputs": [],
   "source": [
    "# We are condiering all possible states\n",
    "# That we can face in running this bike shop\n",
    "for alpha in range(user_capacity+1):                            \n",
    "                                                               \n",
    "    for beta in range(user_capacity + 1 - alpha):\n",
    "        \n",
    "        # This is St, the current state\n",
    "        state = (alpha, beta)                                   \n",
    "\n",
    "        # This is initial inventory, total bike you have at 8AM \n",
    "        initial_inventory = alpha + beta                         \n",
    "        \n",
    "        # The beta1 is the beta in next state, irrespctive of current state (as the decsion policy is constant)\n",
    "        beta1 = user_capacity - initial_inventory\n",
    "        \n",
    "        base_reward = -alpha* holding_cost\n",
    "        # List of all possible demand you can get\n",
    "        for i in range(initial_inventory +1):\n",
    "\n",
    "            # if initial demand can meet the demand\n",
    "            if i <= (initial_inventory-1):\n",
    "                \n",
    "                # probality of specifc demand can happen\n",
    "                transition_prob = poisson.pmf(i,user_poisson_lambda)\n",
    "                \n",
    "                # If we already defined teh state in our data (MarkovProcessDict)\n",
    "                if state in MarkovRewProcessDict:\n",
    "                    \n",
    "                    MarkovRewProcessDict[state][(initial_inventory - i, beta1)]= (transition_prob, base_reward)\n",
    "                \n",
    "                else:\n",
    "                    \n",
    "                    MarkovRewProcessDict[state] = {(initial_inventory - i, beta1):(transition_prob, base_reward)}\n",
    "                         \n",
    "            # if initial demand can not meet the demand\n",
    "            else:\n",
    "                \n",
    "                transition_prob = 1- poisson.cdf(initial_inventory -1, user_poisson_lambda)\n",
    "                # probability of not meeting the demands\n",
    "                #transition_prob1 = 1- poisson.cdf(initial_inventory -1, user_poisson_lambda)\n",
    "                \n",
    "                # probability of not meeting the demands\n",
    "                transition_prob2 = 1- poisson.cdf(initial_inventory, user_poisson_lambda)\n",
    "                \n",
    "                # total reward\n",
    "                \n",
    "                reward = base_reward - stockout_cost*((user_poisson_lambda*transition_prob) - \\\n",
    "                        initial_inventory*transition_prob2)\n",
    "                #print(rewardf)\n",
    "                \n",
    "\n",
    "                #reward = base_reward - stockout_cost *(user_poisson_lambda - initial_inventory *(\n",
    "                #    1 - poisson.pmf(initial_inventory, user_poisson_lambda)/transition_prob1))\n",
    "                #print(reward)\n",
    "                if state in MarkovRewProcessDict:\n",
    "                    \n",
    "                    MarkovRewProcessDict[state][(0, beta1)]= (transition_prob,reward)\n",
    "                    \n",
    "                else:\n",
    "\n",
    "                    MarkovRewProcessDict[state] = {(0, beta1):(transition_prob, reward)}"
   ]
  },
  {
   "cell_type": "code",
   "execution_count": 35,
   "metadata": {},
   "outputs": [
    {
     "data": {
      "text/html": [
       "<pre style=\"white-space:pre;overflow-x:auto;line-height:normal;font-family:Menlo,'DejaVu Sans Mono',consolas,'Courier New',monospace\">\n",
       "<span style=\"font-weight: bold\">{</span>\n",
       "    <span style=\"font-weight: bold\">(</span><span style=\"color: #008080; text-decoration-color: #008080; font-weight: bold\">0</span>, <span style=\"color: #008080; text-decoration-color: #008080; font-weight: bold\">0</span><span style=\"font-weight: bold\">)</span>: <span style=\"font-weight: bold\">{(</span><span style=\"color: #008080; text-decoration-color: #008080; font-weight: bold\">0</span>, <span style=\"color: #008080; text-decoration-color: #008080; font-weight: bold\">2</span><span style=\"font-weight: bold\">)</span>: <span style=\"font-weight: bold\">(</span><span style=\"color: #008080; text-decoration-color: #008080; font-weight: bold\">1.0</span>, <span style=\"color: #008080; text-decoration-color: #008080; font-weight: bold\">-10.0</span><span style=\"font-weight: bold\">)}</span>,\n",
       "    <span style=\"font-weight: bold\">(</span><span style=\"color: #008080; text-decoration-color: #008080; font-weight: bold\">0</span>, <span style=\"color: #008080; text-decoration-color: #008080; font-weight: bold\">1</span><span style=\"font-weight: bold\">)</span>: <span style=\"font-weight: bold\">{</span>\n",
       "        <span style=\"font-weight: bold\">(</span><span style=\"color: #008080; text-decoration-color: #008080; font-weight: bold\">1</span>, <span style=\"color: #008080; text-decoration-color: #008080; font-weight: bold\">1</span><span style=\"font-weight: bold\">)</span>: <span style=\"font-weight: bold\">(</span><span style=\"color: #008080; text-decoration-color: #008080; font-weight: bold\">0.3678794411714424</span>, <span style=\"color: #008080; text-decoration-color: #008080; font-weight: bold\">0</span><span style=\"font-weight: bold\">)</span>,\n",
       "        <span style=\"font-weight: bold\">(</span><span style=\"color: #008080; text-decoration-color: #008080; font-weight: bold\">0</span>, <span style=\"color: #008080; text-decoration-color: #008080; font-weight: bold\">1</span><span style=\"font-weight: bold\">)</span>: <span style=\"font-weight: bold\">(</span><span style=\"color: #008080; text-decoration-color: #008080; font-weight: bold\">0.6321205588285576</span>, <span style=\"color: #008080; text-decoration-color: #008080; font-weight: bold\">-3.6787944117144225</span><span style=\"font-weight: bold\">)</span>\n",
       "    <span style=\"font-weight: bold\">}</span>,\n",
       "    <span style=\"font-weight: bold\">(</span><span style=\"color: #008080; text-decoration-color: #008080; font-weight: bold\">0</span>, <span style=\"color: #008080; text-decoration-color: #008080; font-weight: bold\">2</span><span style=\"font-weight: bold\">)</span>: <span style=\"font-weight: bold\">{</span>\n",
       "        <span style=\"font-weight: bold\">(</span><span style=\"color: #008080; text-decoration-color: #008080; font-weight: bold\">2</span>, <span style=\"color: #008080; text-decoration-color: #008080; font-weight: bold\">0</span><span style=\"font-weight: bold\">)</span>: <span style=\"font-weight: bold\">(</span><span style=\"color: #008080; text-decoration-color: #008080; font-weight: bold\">0.3678794411714424</span>, <span style=\"color: #008080; text-decoration-color: #008080; font-weight: bold\">0</span><span style=\"font-weight: bold\">)</span>,\n",
       "        <span style=\"font-weight: bold\">(</span><span style=\"color: #008080; text-decoration-color: #008080; font-weight: bold\">1</span>, <span style=\"color: #008080; text-decoration-color: #008080; font-weight: bold\">0</span><span style=\"font-weight: bold\">)</span>: <span style=\"font-weight: bold\">(</span><span style=\"color: #008080; text-decoration-color: #008080; font-weight: bold\">0.3678794411714424</span>, <span style=\"color: #008080; text-decoration-color: #008080; font-weight: bold\">0</span><span style=\"font-weight: bold\">)</span>,\n",
       "        <span style=\"font-weight: bold\">(</span><span style=\"color: #008080; text-decoration-color: #008080; font-weight: bold\">0</span>, <span style=\"color: #008080; text-decoration-color: #008080; font-weight: bold\">0</span><span style=\"font-weight: bold\">)</span>: <span style=\"font-weight: bold\">(</span><span style=\"color: #008080; text-decoration-color: #008080; font-weight: bold\">0.26424111765711533</span>, <span style=\"color: #008080; text-decoration-color: #008080; font-weight: bold\">-1.03638323514327</span><span style=\"font-weight: bold\">)</span>\n",
       "    <span style=\"font-weight: bold\">}</span>,\n",
       "    <span style=\"font-weight: bold\">(</span><span style=\"color: #008080; text-decoration-color: #008080; font-weight: bold\">1</span>, <span style=\"color: #008080; text-decoration-color: #008080; font-weight: bold\">0</span><span style=\"font-weight: bold\">)</span>: <span style=\"font-weight: bold\">{</span>\n",
       "        <span style=\"font-weight: bold\">(</span><span style=\"color: #008080; text-decoration-color: #008080; font-weight: bold\">1</span>, <span style=\"color: #008080; text-decoration-color: #008080; font-weight: bold\">1</span><span style=\"font-weight: bold\">)</span>: <span style=\"font-weight: bold\">(</span><span style=\"color: #008080; text-decoration-color: #008080; font-weight: bold\">0.3678794411714424</span>, <span style=\"color: #008080; text-decoration-color: #008080; font-weight: bold\">-1</span><span style=\"font-weight: bold\">)</span>,\n",
       "        <span style=\"font-weight: bold\">(</span><span style=\"color: #008080; text-decoration-color: #008080; font-weight: bold\">0</span>, <span style=\"color: #008080; text-decoration-color: #008080; font-weight: bold\">1</span><span style=\"font-weight: bold\">)</span>: <span style=\"font-weight: bold\">(</span><span style=\"color: #008080; text-decoration-color: #008080; font-weight: bold\">0.6321205588285576</span>, <span style=\"color: #008080; text-decoration-color: #008080; font-weight: bold\">-4.6787944117144225</span><span style=\"font-weight: bold\">)</span>\n",
       "    <span style=\"font-weight: bold\">}</span>,\n",
       "    <span style=\"font-weight: bold\">(</span><span style=\"color: #008080; text-decoration-color: #008080; font-weight: bold\">1</span>, <span style=\"color: #008080; text-decoration-color: #008080; font-weight: bold\">1</span><span style=\"font-weight: bold\">)</span>: <span style=\"font-weight: bold\">{</span>\n",
       "        <span style=\"font-weight: bold\">(</span><span style=\"color: #008080; text-decoration-color: #008080; font-weight: bold\">2</span>, <span style=\"color: #008080; text-decoration-color: #008080; font-weight: bold\">0</span><span style=\"font-weight: bold\">)</span>: <span style=\"font-weight: bold\">(</span><span style=\"color: #008080; text-decoration-color: #008080; font-weight: bold\">0.3678794411714424</span>, <span style=\"color: #008080; text-decoration-color: #008080; font-weight: bold\">-1</span><span style=\"font-weight: bold\">)</span>,\n",
       "        <span style=\"font-weight: bold\">(</span><span style=\"color: #008080; text-decoration-color: #008080; font-weight: bold\">1</span>, <span style=\"color: #008080; text-decoration-color: #008080; font-weight: bold\">0</span><span style=\"font-weight: bold\">)</span>: <span style=\"font-weight: bold\">(</span><span style=\"color: #008080; text-decoration-color: #008080; font-weight: bold\">0.3678794411714424</span>, <span style=\"color: #008080; text-decoration-color: #008080; font-weight: bold\">-1</span><span style=\"font-weight: bold\">)</span>,\n",
       "        <span style=\"font-weight: bold\">(</span><span style=\"color: #008080; text-decoration-color: #008080; font-weight: bold\">0</span>, <span style=\"color: #008080; text-decoration-color: #008080; font-weight: bold\">0</span><span style=\"font-weight: bold\">)</span>: <span style=\"font-weight: bold\">(</span><span style=\"color: #008080; text-decoration-color: #008080; font-weight: bold\">0.26424111765711533</span>, <span style=\"color: #008080; text-decoration-color: #008080; font-weight: bold\">-2.03638323514327</span><span style=\"font-weight: bold\">)</span>\n",
       "    <span style=\"font-weight: bold\">}</span>,\n",
       "    <span style=\"font-weight: bold\">(</span><span style=\"color: #008080; text-decoration-color: #008080; font-weight: bold\">2</span>, <span style=\"color: #008080; text-decoration-color: #008080; font-weight: bold\">0</span><span style=\"font-weight: bold\">)</span>: <span style=\"font-weight: bold\">{</span>\n",
       "        <span style=\"font-weight: bold\">(</span><span style=\"color: #008080; text-decoration-color: #008080; font-weight: bold\">2</span>, <span style=\"color: #008080; text-decoration-color: #008080; font-weight: bold\">0</span><span style=\"font-weight: bold\">)</span>: <span style=\"font-weight: bold\">(</span><span style=\"color: #008080; text-decoration-color: #008080; font-weight: bold\">0.3678794411714424</span>, <span style=\"color: #008080; text-decoration-color: #008080; font-weight: bold\">-2</span><span style=\"font-weight: bold\">)</span>,\n",
       "        <span style=\"font-weight: bold\">(</span><span style=\"color: #008080; text-decoration-color: #008080; font-weight: bold\">1</span>, <span style=\"color: #008080; text-decoration-color: #008080; font-weight: bold\">0</span><span style=\"font-weight: bold\">)</span>: <span style=\"font-weight: bold\">(</span><span style=\"color: #008080; text-decoration-color: #008080; font-weight: bold\">0.3678794411714424</span>, <span style=\"color: #008080; text-decoration-color: #008080; font-weight: bold\">-2</span><span style=\"font-weight: bold\">)</span>,\n",
       "        <span style=\"font-weight: bold\">(</span><span style=\"color: #008080; text-decoration-color: #008080; font-weight: bold\">0</span>, <span style=\"color: #008080; text-decoration-color: #008080; font-weight: bold\">0</span><span style=\"font-weight: bold\">)</span>: <span style=\"font-weight: bold\">(</span><span style=\"color: #008080; text-decoration-color: #008080; font-weight: bold\">0.26424111765711533</span>, <span style=\"color: #008080; text-decoration-color: #008080; font-weight: bold\">-3.03638323514327</span><span style=\"font-weight: bold\">)</span>\n",
       "    <span style=\"font-weight: bold\">}</span>\n",
       "<span style=\"font-weight: bold\">}</span>\n",
       "</pre>\n"
      ],
      "text/plain": [
       "\n",
       "\u001b[1m{\u001b[0m\n",
       "    \u001b[1m(\u001b[0m\u001b[1;36m0\u001b[0m, \u001b[1;36m0\u001b[0m\u001b[1m)\u001b[0m: \u001b[1m{\u001b[0m\u001b[1m(\u001b[0m\u001b[1;36m0\u001b[0m, \u001b[1;36m2\u001b[0m\u001b[1m)\u001b[0m: \u001b[1m(\u001b[0m\u001b[1;36m1.0\u001b[0m, \u001b[1;36m-10.0\u001b[0m\u001b[1m)\u001b[0m\u001b[1m}\u001b[0m,\n",
       "    \u001b[1m(\u001b[0m\u001b[1;36m0\u001b[0m, \u001b[1;36m1\u001b[0m\u001b[1m)\u001b[0m: \u001b[1m{\u001b[0m\n",
       "        \u001b[1m(\u001b[0m\u001b[1;36m1\u001b[0m, \u001b[1;36m1\u001b[0m\u001b[1m)\u001b[0m: \u001b[1m(\u001b[0m\u001b[1;36m0.3678794411714424\u001b[0m, \u001b[1;36m0\u001b[0m\u001b[1m)\u001b[0m,\n",
       "        \u001b[1m(\u001b[0m\u001b[1;36m0\u001b[0m, \u001b[1;36m1\u001b[0m\u001b[1m)\u001b[0m: \u001b[1m(\u001b[0m\u001b[1;36m0.6321205588285576\u001b[0m, \u001b[1;36m-3.6787944117144225\u001b[0m\u001b[1m)\u001b[0m\n",
       "    \u001b[1m}\u001b[0m,\n",
       "    \u001b[1m(\u001b[0m\u001b[1;36m0\u001b[0m, \u001b[1;36m2\u001b[0m\u001b[1m)\u001b[0m: \u001b[1m{\u001b[0m\n",
       "        \u001b[1m(\u001b[0m\u001b[1;36m2\u001b[0m, \u001b[1;36m0\u001b[0m\u001b[1m)\u001b[0m: \u001b[1m(\u001b[0m\u001b[1;36m0.3678794411714424\u001b[0m, \u001b[1;36m0\u001b[0m\u001b[1m)\u001b[0m,\n",
       "        \u001b[1m(\u001b[0m\u001b[1;36m1\u001b[0m, \u001b[1;36m0\u001b[0m\u001b[1m)\u001b[0m: \u001b[1m(\u001b[0m\u001b[1;36m0.3678794411714424\u001b[0m, \u001b[1;36m0\u001b[0m\u001b[1m)\u001b[0m,\n",
       "        \u001b[1m(\u001b[0m\u001b[1;36m0\u001b[0m, \u001b[1;36m0\u001b[0m\u001b[1m)\u001b[0m: \u001b[1m(\u001b[0m\u001b[1;36m0.26424111765711533\u001b[0m, \u001b[1;36m-1.03638323514327\u001b[0m\u001b[1m)\u001b[0m\n",
       "    \u001b[1m}\u001b[0m,\n",
       "    \u001b[1m(\u001b[0m\u001b[1;36m1\u001b[0m, \u001b[1;36m0\u001b[0m\u001b[1m)\u001b[0m: \u001b[1m{\u001b[0m\n",
       "        \u001b[1m(\u001b[0m\u001b[1;36m1\u001b[0m, \u001b[1;36m1\u001b[0m\u001b[1m)\u001b[0m: \u001b[1m(\u001b[0m\u001b[1;36m0.3678794411714424\u001b[0m, \u001b[1;36m-1\u001b[0m\u001b[1m)\u001b[0m,\n",
       "        \u001b[1m(\u001b[0m\u001b[1;36m0\u001b[0m, \u001b[1;36m1\u001b[0m\u001b[1m)\u001b[0m: \u001b[1m(\u001b[0m\u001b[1;36m0.6321205588285576\u001b[0m, \u001b[1;36m-4.6787944117144225\u001b[0m\u001b[1m)\u001b[0m\n",
       "    \u001b[1m}\u001b[0m,\n",
       "    \u001b[1m(\u001b[0m\u001b[1;36m1\u001b[0m, \u001b[1;36m1\u001b[0m\u001b[1m)\u001b[0m: \u001b[1m{\u001b[0m\n",
       "        \u001b[1m(\u001b[0m\u001b[1;36m2\u001b[0m, \u001b[1;36m0\u001b[0m\u001b[1m)\u001b[0m: \u001b[1m(\u001b[0m\u001b[1;36m0.3678794411714424\u001b[0m, \u001b[1;36m-1\u001b[0m\u001b[1m)\u001b[0m,\n",
       "        \u001b[1m(\u001b[0m\u001b[1;36m1\u001b[0m, \u001b[1;36m0\u001b[0m\u001b[1m)\u001b[0m: \u001b[1m(\u001b[0m\u001b[1;36m0.3678794411714424\u001b[0m, \u001b[1;36m-1\u001b[0m\u001b[1m)\u001b[0m,\n",
       "        \u001b[1m(\u001b[0m\u001b[1;36m0\u001b[0m, \u001b[1;36m0\u001b[0m\u001b[1m)\u001b[0m: \u001b[1m(\u001b[0m\u001b[1;36m0.26424111765711533\u001b[0m, \u001b[1;36m-2.03638323514327\u001b[0m\u001b[1m)\u001b[0m\n",
       "    \u001b[1m}\u001b[0m,\n",
       "    \u001b[1m(\u001b[0m\u001b[1;36m2\u001b[0m, \u001b[1;36m0\u001b[0m\u001b[1m)\u001b[0m: \u001b[1m{\u001b[0m\n",
       "        \u001b[1m(\u001b[0m\u001b[1;36m2\u001b[0m, \u001b[1;36m0\u001b[0m\u001b[1m)\u001b[0m: \u001b[1m(\u001b[0m\u001b[1;36m0.3678794411714424\u001b[0m, \u001b[1;36m-2\u001b[0m\u001b[1m)\u001b[0m,\n",
       "        \u001b[1m(\u001b[0m\u001b[1;36m1\u001b[0m, \u001b[1;36m0\u001b[0m\u001b[1m)\u001b[0m: \u001b[1m(\u001b[0m\u001b[1;36m0.3678794411714424\u001b[0m, \u001b[1;36m-2\u001b[0m\u001b[1m)\u001b[0m,\n",
       "        \u001b[1m(\u001b[0m\u001b[1;36m0\u001b[0m, \u001b[1;36m0\u001b[0m\u001b[1m)\u001b[0m: \u001b[1m(\u001b[0m\u001b[1;36m0.26424111765711533\u001b[0m, \u001b[1;36m-3.03638323514327\u001b[0m\u001b[1m)\u001b[0m\n",
       "    \u001b[1m}\u001b[0m\n",
       "\u001b[1m}\u001b[0m\n"
      ]
     },
     "metadata": {},
     "output_type": "display_data"
    }
   ],
   "source": [
    "MarkovRewProcessDict"
   ]
  },
  {
   "cell_type": "code",
   "execution_count": 36,
   "metadata": {},
   "outputs": [
    {
     "name": "stdout",
     "output_type": "stream",
     "text": [
      "The Current state is: (0, 0)\n",
      "The Next State is (0, 2) \n",
      "with Probability of: 1.0                \n",
      "and Reward: -10.0\n",
      "The Current state is: (0, 1)\n",
      "The Next State is (1, 1) \n",
      "with Probability of: 0.3678794411714424                \n",
      "and Reward: 0\n",
      "The Next State is (0, 1) \n",
      "with Probability of: 0.6321205588285576                \n",
      "and Reward: -3.6787944117144225\n",
      "The Current state is: (0, 2)\n",
      "The Next State is (2, 0) \n",
      "with Probability of: 0.3678794411714424                \n",
      "and Reward: 0\n",
      "The Next State is (1, 0) \n",
      "with Probability of: 0.3678794411714424                \n",
      "and Reward: 0\n",
      "The Next State is (0, 0) \n",
      "with Probability of: 0.26424111765711533                \n",
      "and Reward: -1.03638323514327\n",
      "The Current state is: (1, 0)\n",
      "The Next State is (1, 1) \n",
      "with Probability of: 0.3678794411714424                \n",
      "and Reward: -1\n",
      "The Next State is (0, 1) \n",
      "with Probability of: 0.6321205588285576                \n",
      "and Reward: -4.6787944117144225\n",
      "The Current state is: (1, 1)\n",
      "The Next State is (2, 0) \n",
      "with Probability of: 0.3678794411714424                \n",
      "and Reward: -1\n",
      "The Next State is (1, 0) \n",
      "with Probability of: 0.3678794411714424                \n",
      "and Reward: -1\n",
      "The Next State is (0, 0) \n",
      "with Probability of: 0.26424111765711533                \n",
      "and Reward: -2.03638323514327\n",
      "The Current state is: (2, 0)\n",
      "The Next State is (2, 0) \n",
      "with Probability of: 0.3678794411714424                \n",
      "and Reward: -2\n",
      "The Next State is (1, 0) \n",
      "with Probability of: 0.3678794411714424                \n",
      "and Reward: -2\n",
      "The Next State is (0, 0) \n",
      "with Probability of: 0.26424111765711533                \n",
      "and Reward: -3.03638323514327\n"
     ]
    }
   ],
   "source": [
    "for (state, value) in MarkovRewProcessDict.items():\n",
    "    \n",
    "    print(\"The Current state is: {}\".format(state))\n",
    "    \n",
    "    for (next_state, (trans_prob,reward)) in value.items():\n",
    "        \n",
    "        print(\"The Next State is {} \\nwith Probability of: {} \\\n",
    "               \\nand Reward: {}\".format(next_state, trans_prob, reward))"
   ]
  },
  {
   "cell_type": "code",
   "execution_count": 55,
   "metadata": {},
   "outputs": [
    {
     "data": {
      "text/html": [
       "<div>\n",
       "<style scoped>\n",
       "    .dataframe tbody tr th:only-of-type {\n",
       "        vertical-align: middle;\n",
       "    }\n",
       "\n",
       "    .dataframe tbody tr th {\n",
       "        vertical-align: top;\n",
       "    }\n",
       "\n",
       "    .dataframe thead th {\n",
       "        text-align: right;\n",
       "    }\n",
       "</style>\n",
       "<table border=\"1\" class=\"dataframe\">\n",
       "  <thead>\n",
       "    <tr style=\"text-align: right;\">\n",
       "      <th></th>\n",
       "      <th>(0, 0)</th>\n",
       "      <th>(0, 1)</th>\n",
       "      <th>(0, 2)</th>\n",
       "      <th>(1, 0)</th>\n",
       "      <th>(1, 1)</th>\n",
       "      <th>(2, 0)</th>\n",
       "    </tr>\n",
       "  </thead>\n",
       "  <tbody>\n",
       "    <tr>\n",
       "      <th>(0, 0)</th>\n",
       "      <td>0.000000</td>\n",
       "      <td>0.000000</td>\n",
       "      <td>1.0</td>\n",
       "      <td>0.000000</td>\n",
       "      <td>0.000000</td>\n",
       "      <td>0.000000</td>\n",
       "    </tr>\n",
       "    <tr>\n",
       "      <th>(0, 1)</th>\n",
       "      <td>0.000000</td>\n",
       "      <td>0.632121</td>\n",
       "      <td>0.0</td>\n",
       "      <td>0.000000</td>\n",
       "      <td>0.367879</td>\n",
       "      <td>0.000000</td>\n",
       "    </tr>\n",
       "    <tr>\n",
       "      <th>(0, 2)</th>\n",
       "      <td>0.264241</td>\n",
       "      <td>0.000000</td>\n",
       "      <td>0.0</td>\n",
       "      <td>0.367879</td>\n",
       "      <td>0.000000</td>\n",
       "      <td>0.367879</td>\n",
       "    </tr>\n",
       "    <tr>\n",
       "      <th>(1, 0)</th>\n",
       "      <td>0.000000</td>\n",
       "      <td>0.632121</td>\n",
       "      <td>0.0</td>\n",
       "      <td>0.000000</td>\n",
       "      <td>0.367879</td>\n",
       "      <td>0.000000</td>\n",
       "    </tr>\n",
       "    <tr>\n",
       "      <th>(1, 1)</th>\n",
       "      <td>0.264241</td>\n",
       "      <td>0.000000</td>\n",
       "      <td>0.0</td>\n",
       "      <td>0.367879</td>\n",
       "      <td>0.000000</td>\n",
       "      <td>0.367879</td>\n",
       "    </tr>\n",
       "    <tr>\n",
       "      <th>(2, 0)</th>\n",
       "      <td>0.264241</td>\n",
       "      <td>0.000000</td>\n",
       "      <td>0.0</td>\n",
       "      <td>0.367879</td>\n",
       "      <td>0.000000</td>\n",
       "      <td>0.367879</td>\n",
       "    </tr>\n",
       "  </tbody>\n",
       "</table>\n",
       "</div>"
      ]
     },
     "execution_count": 55,
     "metadata": {},
     "output_type": "execute_result"
    }
   ],
   "source": [
    "# Extract unique state keys\n",
    "states = list(MarkovRewProcessDict.keys())\n",
    "\n",
    "# Initialize an empty matrix\n",
    "trans_prob = np.zeros((len(states), len(states)))\n",
    "\n",
    "# Populate the matrix with probabilities\n",
    "for i, from_state in enumerate(states):\n",
    "    for j, to_state in enumerate(states):\n",
    "        if to_state in MarkovRewProcessDict[from_state]:\n",
    "            probability, _ = MarkovRewProcessDict[from_state][to_state]\n",
    "            trans_prob[i, j] = probability\n",
    "\n",
    "# Create a DataFrame\n",
    "df_trans_prob = pd.DataFrame(trans_prob, columns=states, index=states)\n",
    "\n",
    "# Print the DataFrame\n",
    "df_trans_prob"
   ]
  },
  {
   "cell_type": "code",
   "execution_count": 42,
   "metadata": {},
   "outputs": [
    {
     "data": {
      "text/html": [
       "<pre style=\"white-space:pre;overflow-x:auto;line-height:normal;font-family:Menlo,'DejaVu Sans Mono',consolas,'Courier New',monospace\">\n",
       "<span style=\"font-weight: bold\">{</span>\n",
       "    <span style=\"font-weight: bold\">(</span><span style=\"color: #008080; text-decoration-color: #008080; font-weight: bold\">0</span>, <span style=\"color: #008080; text-decoration-color: #008080; font-weight: bold\">0</span><span style=\"font-weight: bold\">)</span>: <span style=\"font-weight: bold\">{(</span><span style=\"color: #008080; text-decoration-color: #008080; font-weight: bold\">0</span>, <span style=\"color: #008080; text-decoration-color: #008080; font-weight: bold\">2</span><span style=\"font-weight: bold\">)</span>: <span style=\"font-weight: bold\">(</span><span style=\"color: #008080; text-decoration-color: #008080; font-weight: bold\">1.0</span>, <span style=\"color: #008080; text-decoration-color: #008080; font-weight: bold\">-10.0</span><span style=\"font-weight: bold\">)}</span>,\n",
       "    <span style=\"font-weight: bold\">(</span><span style=\"color: #008080; text-decoration-color: #008080; font-weight: bold\">0</span>, <span style=\"color: #008080; text-decoration-color: #008080; font-weight: bold\">1</span><span style=\"font-weight: bold\">)</span>: <span style=\"font-weight: bold\">{</span>\n",
       "        <span style=\"font-weight: bold\">(</span><span style=\"color: #008080; text-decoration-color: #008080; font-weight: bold\">1</span>, <span style=\"color: #008080; text-decoration-color: #008080; font-weight: bold\">1</span><span style=\"font-weight: bold\">)</span>: <span style=\"font-weight: bold\">(</span><span style=\"color: #008080; text-decoration-color: #008080; font-weight: bold\">0.3678794411714424</span>, <span style=\"color: #008080; text-decoration-color: #008080; font-weight: bold\">0</span><span style=\"font-weight: bold\">)</span>,\n",
       "        <span style=\"font-weight: bold\">(</span><span style=\"color: #008080; text-decoration-color: #008080; font-weight: bold\">0</span>, <span style=\"color: #008080; text-decoration-color: #008080; font-weight: bold\">1</span><span style=\"font-weight: bold\">)</span>: <span style=\"font-weight: bold\">(</span><span style=\"color: #008080; text-decoration-color: #008080; font-weight: bold\">0.6321205588285576</span>, <span style=\"color: #008080; text-decoration-color: #008080; font-weight: bold\">-3.6787944117144225</span><span style=\"font-weight: bold\">)</span>\n",
       "    <span style=\"font-weight: bold\">}</span>,\n",
       "    <span style=\"font-weight: bold\">(</span><span style=\"color: #008080; text-decoration-color: #008080; font-weight: bold\">0</span>, <span style=\"color: #008080; text-decoration-color: #008080; font-weight: bold\">2</span><span style=\"font-weight: bold\">)</span>: <span style=\"font-weight: bold\">{</span>\n",
       "        <span style=\"font-weight: bold\">(</span><span style=\"color: #008080; text-decoration-color: #008080; font-weight: bold\">2</span>, <span style=\"color: #008080; text-decoration-color: #008080; font-weight: bold\">0</span><span style=\"font-weight: bold\">)</span>: <span style=\"font-weight: bold\">(</span><span style=\"color: #008080; text-decoration-color: #008080; font-weight: bold\">0.3678794411714424</span>, <span style=\"color: #008080; text-decoration-color: #008080; font-weight: bold\">0</span><span style=\"font-weight: bold\">)</span>,\n",
       "        <span style=\"font-weight: bold\">(</span><span style=\"color: #008080; text-decoration-color: #008080; font-weight: bold\">1</span>, <span style=\"color: #008080; text-decoration-color: #008080; font-weight: bold\">0</span><span style=\"font-weight: bold\">)</span>: <span style=\"font-weight: bold\">(</span><span style=\"color: #008080; text-decoration-color: #008080; font-weight: bold\">0.3678794411714424</span>, <span style=\"color: #008080; text-decoration-color: #008080; font-weight: bold\">0</span><span style=\"font-weight: bold\">)</span>,\n",
       "        <span style=\"font-weight: bold\">(</span><span style=\"color: #008080; text-decoration-color: #008080; font-weight: bold\">0</span>, <span style=\"color: #008080; text-decoration-color: #008080; font-weight: bold\">0</span><span style=\"font-weight: bold\">)</span>: <span style=\"font-weight: bold\">(</span><span style=\"color: #008080; text-decoration-color: #008080; font-weight: bold\">0.26424111765711533</span>, <span style=\"color: #008080; text-decoration-color: #008080; font-weight: bold\">-1.03638323514327</span><span style=\"font-weight: bold\">)</span>\n",
       "    <span style=\"font-weight: bold\">}</span>,\n",
       "    <span style=\"font-weight: bold\">(</span><span style=\"color: #008080; text-decoration-color: #008080; font-weight: bold\">1</span>, <span style=\"color: #008080; text-decoration-color: #008080; font-weight: bold\">0</span><span style=\"font-weight: bold\">)</span>: <span style=\"font-weight: bold\">{</span>\n",
       "        <span style=\"font-weight: bold\">(</span><span style=\"color: #008080; text-decoration-color: #008080; font-weight: bold\">1</span>, <span style=\"color: #008080; text-decoration-color: #008080; font-weight: bold\">1</span><span style=\"font-weight: bold\">)</span>: <span style=\"font-weight: bold\">(</span><span style=\"color: #008080; text-decoration-color: #008080; font-weight: bold\">0.3678794411714424</span>, <span style=\"color: #008080; text-decoration-color: #008080; font-weight: bold\">-1</span><span style=\"font-weight: bold\">)</span>,\n",
       "        <span style=\"font-weight: bold\">(</span><span style=\"color: #008080; text-decoration-color: #008080; font-weight: bold\">0</span>, <span style=\"color: #008080; text-decoration-color: #008080; font-weight: bold\">1</span><span style=\"font-weight: bold\">)</span>: <span style=\"font-weight: bold\">(</span><span style=\"color: #008080; text-decoration-color: #008080; font-weight: bold\">0.6321205588285576</span>, <span style=\"color: #008080; text-decoration-color: #008080; font-weight: bold\">-4.6787944117144225</span><span style=\"font-weight: bold\">)</span>\n",
       "    <span style=\"font-weight: bold\">}</span>,\n",
       "    <span style=\"font-weight: bold\">(</span><span style=\"color: #008080; text-decoration-color: #008080; font-weight: bold\">1</span>, <span style=\"color: #008080; text-decoration-color: #008080; font-weight: bold\">1</span><span style=\"font-weight: bold\">)</span>: <span style=\"font-weight: bold\">{</span>\n",
       "        <span style=\"font-weight: bold\">(</span><span style=\"color: #008080; text-decoration-color: #008080; font-weight: bold\">2</span>, <span style=\"color: #008080; text-decoration-color: #008080; font-weight: bold\">0</span><span style=\"font-weight: bold\">)</span>: <span style=\"font-weight: bold\">(</span><span style=\"color: #008080; text-decoration-color: #008080; font-weight: bold\">0.3678794411714424</span>, <span style=\"color: #008080; text-decoration-color: #008080; font-weight: bold\">-1</span><span style=\"font-weight: bold\">)</span>,\n",
       "        <span style=\"font-weight: bold\">(</span><span style=\"color: #008080; text-decoration-color: #008080; font-weight: bold\">1</span>, <span style=\"color: #008080; text-decoration-color: #008080; font-weight: bold\">0</span><span style=\"font-weight: bold\">)</span>: <span style=\"font-weight: bold\">(</span><span style=\"color: #008080; text-decoration-color: #008080; font-weight: bold\">0.3678794411714424</span>, <span style=\"color: #008080; text-decoration-color: #008080; font-weight: bold\">-1</span><span style=\"font-weight: bold\">)</span>,\n",
       "        <span style=\"font-weight: bold\">(</span><span style=\"color: #008080; text-decoration-color: #008080; font-weight: bold\">0</span>, <span style=\"color: #008080; text-decoration-color: #008080; font-weight: bold\">0</span><span style=\"font-weight: bold\">)</span>: <span style=\"font-weight: bold\">(</span><span style=\"color: #008080; text-decoration-color: #008080; font-weight: bold\">0.26424111765711533</span>, <span style=\"color: #008080; text-decoration-color: #008080; font-weight: bold\">-2.03638323514327</span><span style=\"font-weight: bold\">)</span>\n",
       "    <span style=\"font-weight: bold\">}</span>,\n",
       "    <span style=\"font-weight: bold\">(</span><span style=\"color: #008080; text-decoration-color: #008080; font-weight: bold\">2</span>, <span style=\"color: #008080; text-decoration-color: #008080; font-weight: bold\">0</span><span style=\"font-weight: bold\">)</span>: <span style=\"font-weight: bold\">{</span>\n",
       "        <span style=\"font-weight: bold\">(</span><span style=\"color: #008080; text-decoration-color: #008080; font-weight: bold\">2</span>, <span style=\"color: #008080; text-decoration-color: #008080; font-weight: bold\">0</span><span style=\"font-weight: bold\">)</span>: <span style=\"font-weight: bold\">(</span><span style=\"color: #008080; text-decoration-color: #008080; font-weight: bold\">0.3678794411714424</span>, <span style=\"color: #008080; text-decoration-color: #008080; font-weight: bold\">-2</span><span style=\"font-weight: bold\">)</span>,\n",
       "        <span style=\"font-weight: bold\">(</span><span style=\"color: #008080; text-decoration-color: #008080; font-weight: bold\">1</span>, <span style=\"color: #008080; text-decoration-color: #008080; font-weight: bold\">0</span><span style=\"font-weight: bold\">)</span>: <span style=\"font-weight: bold\">(</span><span style=\"color: #008080; text-decoration-color: #008080; font-weight: bold\">0.3678794411714424</span>, <span style=\"color: #008080; text-decoration-color: #008080; font-weight: bold\">-2</span><span style=\"font-weight: bold\">)</span>,\n",
       "        <span style=\"font-weight: bold\">(</span><span style=\"color: #008080; text-decoration-color: #008080; font-weight: bold\">0</span>, <span style=\"color: #008080; text-decoration-color: #008080; font-weight: bold\">0</span><span style=\"font-weight: bold\">)</span>: <span style=\"font-weight: bold\">(</span><span style=\"color: #008080; text-decoration-color: #008080; font-weight: bold\">0.26424111765711533</span>, <span style=\"color: #008080; text-decoration-color: #008080; font-weight: bold\">-3.03638323514327</span><span style=\"font-weight: bold\">)</span>\n",
       "    <span style=\"font-weight: bold\">}</span>\n",
       "<span style=\"font-weight: bold\">}</span>\n",
       "</pre>\n"
      ],
      "text/plain": [
       "\n",
       "\u001b[1m{\u001b[0m\n",
       "    \u001b[1m(\u001b[0m\u001b[1;36m0\u001b[0m, \u001b[1;36m0\u001b[0m\u001b[1m)\u001b[0m: \u001b[1m{\u001b[0m\u001b[1m(\u001b[0m\u001b[1;36m0\u001b[0m, \u001b[1;36m2\u001b[0m\u001b[1m)\u001b[0m: \u001b[1m(\u001b[0m\u001b[1;36m1.0\u001b[0m, \u001b[1;36m-10.0\u001b[0m\u001b[1m)\u001b[0m\u001b[1m}\u001b[0m,\n",
       "    \u001b[1m(\u001b[0m\u001b[1;36m0\u001b[0m, \u001b[1;36m1\u001b[0m\u001b[1m)\u001b[0m: \u001b[1m{\u001b[0m\n",
       "        \u001b[1m(\u001b[0m\u001b[1;36m1\u001b[0m, \u001b[1;36m1\u001b[0m\u001b[1m)\u001b[0m: \u001b[1m(\u001b[0m\u001b[1;36m0.3678794411714424\u001b[0m, \u001b[1;36m0\u001b[0m\u001b[1m)\u001b[0m,\n",
       "        \u001b[1m(\u001b[0m\u001b[1;36m0\u001b[0m, \u001b[1;36m1\u001b[0m\u001b[1m)\u001b[0m: \u001b[1m(\u001b[0m\u001b[1;36m0.6321205588285576\u001b[0m, \u001b[1;36m-3.6787944117144225\u001b[0m\u001b[1m)\u001b[0m\n",
       "    \u001b[1m}\u001b[0m,\n",
       "    \u001b[1m(\u001b[0m\u001b[1;36m0\u001b[0m, \u001b[1;36m2\u001b[0m\u001b[1m)\u001b[0m: \u001b[1m{\u001b[0m\n",
       "        \u001b[1m(\u001b[0m\u001b[1;36m2\u001b[0m, \u001b[1;36m0\u001b[0m\u001b[1m)\u001b[0m: \u001b[1m(\u001b[0m\u001b[1;36m0.3678794411714424\u001b[0m, \u001b[1;36m0\u001b[0m\u001b[1m)\u001b[0m,\n",
       "        \u001b[1m(\u001b[0m\u001b[1;36m1\u001b[0m, \u001b[1;36m0\u001b[0m\u001b[1m)\u001b[0m: \u001b[1m(\u001b[0m\u001b[1;36m0.3678794411714424\u001b[0m, \u001b[1;36m0\u001b[0m\u001b[1m)\u001b[0m,\n",
       "        \u001b[1m(\u001b[0m\u001b[1;36m0\u001b[0m, \u001b[1;36m0\u001b[0m\u001b[1m)\u001b[0m: \u001b[1m(\u001b[0m\u001b[1;36m0.26424111765711533\u001b[0m, \u001b[1;36m-1.03638323514327\u001b[0m\u001b[1m)\u001b[0m\n",
       "    \u001b[1m}\u001b[0m,\n",
       "    \u001b[1m(\u001b[0m\u001b[1;36m1\u001b[0m, \u001b[1;36m0\u001b[0m\u001b[1m)\u001b[0m: \u001b[1m{\u001b[0m\n",
       "        \u001b[1m(\u001b[0m\u001b[1;36m1\u001b[0m, \u001b[1;36m1\u001b[0m\u001b[1m)\u001b[0m: \u001b[1m(\u001b[0m\u001b[1;36m0.3678794411714424\u001b[0m, \u001b[1;36m-1\u001b[0m\u001b[1m)\u001b[0m,\n",
       "        \u001b[1m(\u001b[0m\u001b[1;36m0\u001b[0m, \u001b[1;36m1\u001b[0m\u001b[1m)\u001b[0m: \u001b[1m(\u001b[0m\u001b[1;36m0.6321205588285576\u001b[0m, \u001b[1;36m-4.6787944117144225\u001b[0m\u001b[1m)\u001b[0m\n",
       "    \u001b[1m}\u001b[0m,\n",
       "    \u001b[1m(\u001b[0m\u001b[1;36m1\u001b[0m, \u001b[1;36m1\u001b[0m\u001b[1m)\u001b[0m: \u001b[1m{\u001b[0m\n",
       "        \u001b[1m(\u001b[0m\u001b[1;36m2\u001b[0m, \u001b[1;36m0\u001b[0m\u001b[1m)\u001b[0m: \u001b[1m(\u001b[0m\u001b[1;36m0.3678794411714424\u001b[0m, \u001b[1;36m-1\u001b[0m\u001b[1m)\u001b[0m,\n",
       "        \u001b[1m(\u001b[0m\u001b[1;36m1\u001b[0m, \u001b[1;36m0\u001b[0m\u001b[1m)\u001b[0m: \u001b[1m(\u001b[0m\u001b[1;36m0.3678794411714424\u001b[0m, \u001b[1;36m-1\u001b[0m\u001b[1m)\u001b[0m,\n",
       "        \u001b[1m(\u001b[0m\u001b[1;36m0\u001b[0m, \u001b[1;36m0\u001b[0m\u001b[1m)\u001b[0m: \u001b[1m(\u001b[0m\u001b[1;36m0.26424111765711533\u001b[0m, \u001b[1;36m-2.03638323514327\u001b[0m\u001b[1m)\u001b[0m\n",
       "    \u001b[1m}\u001b[0m,\n",
       "    \u001b[1m(\u001b[0m\u001b[1;36m2\u001b[0m, \u001b[1;36m0\u001b[0m\u001b[1m)\u001b[0m: \u001b[1m{\u001b[0m\n",
       "        \u001b[1m(\u001b[0m\u001b[1;36m2\u001b[0m, \u001b[1;36m0\u001b[0m\u001b[1m)\u001b[0m: \u001b[1m(\u001b[0m\u001b[1;36m0.3678794411714424\u001b[0m, \u001b[1;36m-2\u001b[0m\u001b[1m)\u001b[0m,\n",
       "        \u001b[1m(\u001b[0m\u001b[1;36m1\u001b[0m, \u001b[1;36m0\u001b[0m\u001b[1m)\u001b[0m: \u001b[1m(\u001b[0m\u001b[1;36m0.3678794411714424\u001b[0m, \u001b[1;36m-2\u001b[0m\u001b[1m)\u001b[0m,\n",
       "        \u001b[1m(\u001b[0m\u001b[1;36m0\u001b[0m, \u001b[1;36m0\u001b[0m\u001b[1m)\u001b[0m: \u001b[1m(\u001b[0m\u001b[1;36m0.26424111765711533\u001b[0m, \u001b[1;36m-3.03638323514327\u001b[0m\u001b[1m)\u001b[0m\n",
       "    \u001b[1m}\u001b[0m\n",
       "\u001b[1m}\u001b[0m\n"
      ]
     },
     "metadata": {},
     "output_type": "display_data"
    }
   ],
   "source": [
    "MarkovRewProcessDict"
   ]
  },
  {
   "cell_type": "code",
   "execution_count": 46,
   "metadata": {},
   "outputs": [
    {
     "data": {
      "text/html": [
       "<pre style=\"white-space:pre;overflow-x:auto;line-height:normal;font-family:Menlo,'DejaVu Sans Mono',consolas,'Courier New',monospace\">\n",
       "<span style=\"font-weight: bold\">{</span>\n",
       "    <span style=\"font-weight: bold\">(</span><span style=\"color: #008080; text-decoration-color: #008080; font-weight: bold\">0</span>, <span style=\"color: #008080; text-decoration-color: #008080; font-weight: bold\">0</span><span style=\"font-weight: bold\">)</span>: <span style=\"color: #008080; text-decoration-color: #008080; font-weight: bold\">-10.0</span>,\n",
       "    <span style=\"font-weight: bold\">(</span><span style=\"color: #008080; text-decoration-color: #008080; font-weight: bold\">0</span>, <span style=\"color: #008080; text-decoration-color: #008080; font-weight: bold\">1</span><span style=\"font-weight: bold\">)</span>: <span style=\"color: #008080; text-decoration-color: #008080; font-weight: bold\">-2.325441579348295</span>,\n",
       "    <span style=\"font-weight: bold\">(</span><span style=\"color: #008080; text-decoration-color: #008080; font-weight: bold\">0</span>, <span style=\"color: #008080; text-decoration-color: #008080; font-weight: bold\">2</span><span style=\"font-weight: bold\">)</span>: <span style=\"color: #008080; text-decoration-color: #008080; font-weight: bold\">-0.2738550643753546</span>,\n",
       "    <span style=\"font-weight: bold\">(</span><span style=\"color: #008080; text-decoration-color: #008080; font-weight: bold\">1</span>, <span style=\"color: #008080; text-decoration-color: #008080; font-weight: bold\">0</span><span style=\"font-weight: bold\">)</span>: <span style=\"color: #008080; text-decoration-color: #008080; font-weight: bold\">-3.325441579348295</span>,\n",
       "    <span style=\"font-weight: bold\">(</span><span style=\"color: #008080; text-decoration-color: #008080; font-weight: bold\">1</span>, <span style=\"color: #008080; text-decoration-color: #008080; font-weight: bold\">1</span><span style=\"font-weight: bold\">)</span>: <span style=\"color: #008080; text-decoration-color: #008080; font-weight: bold\">-1.2738550643753548</span>,\n",
       "    <span style=\"font-weight: bold\">(</span><span style=\"color: #008080; text-decoration-color: #008080; font-weight: bold\">2</span>, <span style=\"color: #008080; text-decoration-color: #008080; font-weight: bold\">0</span><span style=\"font-weight: bold\">)</span>: <span style=\"color: #008080; text-decoration-color: #008080; font-weight: bold\">-2.273855064375355</span>\n",
       "<span style=\"font-weight: bold\">}</span>\n",
       "</pre>\n"
      ],
      "text/plain": [
       "\n",
       "\u001b[1m{\u001b[0m\n",
       "    \u001b[1m(\u001b[0m\u001b[1;36m0\u001b[0m, \u001b[1;36m0\u001b[0m\u001b[1m)\u001b[0m: \u001b[1;36m-10.0\u001b[0m,\n",
       "    \u001b[1m(\u001b[0m\u001b[1;36m0\u001b[0m, \u001b[1;36m1\u001b[0m\u001b[1m)\u001b[0m: \u001b[1;36m-2.325441579348295\u001b[0m,\n",
       "    \u001b[1m(\u001b[0m\u001b[1;36m0\u001b[0m, \u001b[1;36m2\u001b[0m\u001b[1m)\u001b[0m: \u001b[1;36m-0.2738550643753546\u001b[0m,\n",
       "    \u001b[1m(\u001b[0m\u001b[1;36m1\u001b[0m, \u001b[1;36m0\u001b[0m\u001b[1m)\u001b[0m: \u001b[1;36m-3.325441579348295\u001b[0m,\n",
       "    \u001b[1m(\u001b[0m\u001b[1;36m1\u001b[0m, \u001b[1;36m1\u001b[0m\u001b[1m)\u001b[0m: \u001b[1;36m-1.2738550643753548\u001b[0m,\n",
       "    \u001b[1m(\u001b[0m\u001b[1;36m2\u001b[0m, \u001b[1;36m0\u001b[0m\u001b[1m)\u001b[0m: \u001b[1;36m-2.273855064375355\u001b[0m\n",
       "\u001b[1m}\u001b[0m\n"
      ]
     },
     "metadata": {},
     "output_type": "display_data"
    }
   ],
   "source": [
    "def expected_immediateR(data):\n",
    "    \n",
    "    expected_value = 0\n",
    "    \n",
    "    for key, value in data.items():\n",
    "            weight, val = value\n",
    "            expected_value += weight * val\n",
    "    \n",
    "    return expected_value\n",
    "\n",
    "\n",
    "E_immediate_R = {}\n",
    "\n",
    "for key, value in MarkovRewProcessDict.items():\n",
    "    E_immediate_R[key] = expected_immediateR(value)\n",
    "\n",
    "E_immediate_R"
   ]
  },
  {
   "cell_type": "markdown",
   "metadata": {},
   "source": [
    "$$f(j)=\\frac{e^{-\\lambda}\\lambda^{j}}{j!}$$"
   ]
  },
  {
   "cell_type": "markdown",
   "metadata": {},
   "source": [
    "$$F(x)=\\sum_{j=0}^{x}\\frac{e^{-\\lambda}\\lambda^{j}}{j!}$$"
   ]
  },
  {
   "cell_type": "markdown",
   "metadata": {},
   "source": [
    "$$\\mathbb{E} [j \\leq \\alpha +\\beta ] = \\sum_{j=0}^{\\alpha + \\beta}\\frac{e^{-\\lambda}\\lambda^{j}}{j!}j$$"
   ]
  },
  {
   "cell_type": "markdown",
   "metadata": {},
   "source": [
    "$$\\mathbb{E} [j \\leq \\alpha +\\beta ] = \\sum_{j=1}^{\\alpha + \\beta}\\frac{e^{-\\lambda}\\lambda^{j}}{j!}j= \\sum_{j=1}^{\\alpha + \\beta}\\frac{e^{-\\lambda}\\lambda^{j}}{j(j-1)!}j=\\sum_{j=1}^{\\alpha + \\beta}\\frac{e^{-\\lambda}\\lambda^{j}}{(j-1)!} = \\lambda \\sum_{j=1}^{\\alpha + \\beta}\\frac{e^{-\\lambda}\\lambda^{j-1}}{(j-1)!}$$\n",
    "$$\\mathbb{E} [j \\leq \\alpha +\\beta ] = \\lambda \\sum_{k=0}^{\\alpha + \\beta -1}\\frac{e^{-\\lambda}\\lambda^{k}}{k!} =\\lambda F(\\alpha + \\beta -1)$$"
   ]
  },
  {
   "cell_type": "code",
   "execution_count": 54,
   "metadata": {},
   "outputs": [
    {
     "data": {
      "text/html": [
       "<pre style=\"white-space:pre;overflow-x:auto;line-height:normal;font-family:Menlo,'DejaVu Sans Mono',consolas,'Courier New',monospace\">\n",
       "<span style=\"color: #800080; text-decoration-color: #800080; font-weight: bold\">array</span><span style=\"font-weight: bold\">([</span><span style=\"color: #008080; text-decoration-color: #008080; font-weight: bold\">-10</span>.        ,  <span style=\"color: #008080; text-decoration-color: #008080; font-weight: bold\">-2.32544158</span>,  <span style=\"color: #008080; text-decoration-color: #008080; font-weight: bold\">-0.27385506</span>,  <span style=\"color: #008080; text-decoration-color: #008080; font-weight: bold\">-3.32544158</span>,\n",
       "        <span style=\"color: #008080; text-decoration-color: #008080; font-weight: bold\">-1.27385506</span>,  <span style=\"color: #008080; text-decoration-color: #008080; font-weight: bold\">-2.27385506</span><span style=\"font-weight: bold\">])</span>\n",
       "</pre>\n"
      ],
      "text/plain": [
       "\n",
       "\u001b[1;35marray\u001b[0m\u001b[1m(\u001b[0m\u001b[1m[\u001b[0m\u001b[1;36m-10\u001b[0m.        ,  \u001b[1;36m-2.32544158\u001b[0m,  \u001b[1;36m-0.27385506\u001b[0m,  \u001b[1;36m-3.32544158\u001b[0m,\n",
       "        \u001b[1;36m-1.27385506\u001b[0m,  \u001b[1;36m-2.27385506\u001b[0m\u001b[1m]\u001b[0m\u001b[1m)\u001b[0m\n"
      ]
     },
     "metadata": {},
     "output_type": "display_data"
    }
   ],
   "source": [
    "R_exp=np.array(list(E_immediate_R.values()))\n",
    "R_exp"
   ]
  },
  {
   "cell_type": "code",
   "execution_count": 57,
   "metadata": {},
   "outputs": [
    {
     "data": {
      "text/html": [
       "<pre style=\"white-space:pre;overflow-x:auto;line-height:normal;font-family:Menlo,'DejaVu Sans Mono',consolas,'Courier New',monospace\">\n",
       "<span style=\"color: #800080; text-decoration-color: #800080; font-weight: bold\">array</span><span style=\"font-weight: bold\">([[</span><span style=\"color: #008080; text-decoration-color: #008080; font-weight: bold\">0</span>.        , <span style=\"color: #008080; text-decoration-color: #008080; font-weight: bold\">0</span>.        , <span style=\"color: #008080; text-decoration-color: #008080; font-weight: bold\">1</span>.        , <span style=\"color: #008080; text-decoration-color: #008080; font-weight: bold\">0</span>.        , <span style=\"color: #008080; text-decoration-color: #008080; font-weight: bold\">0</span>.        ,\n",
       "        <span style=\"color: #008080; text-decoration-color: #008080; font-weight: bold\">0</span>.        <span style=\"font-weight: bold\">]</span>,\n",
       "       <span style=\"font-weight: bold\">[</span><span style=\"color: #008080; text-decoration-color: #008080; font-weight: bold\">0</span>.        , <span style=\"color: #008080; text-decoration-color: #008080; font-weight: bold\">0.63212056</span>, <span style=\"color: #008080; text-decoration-color: #008080; font-weight: bold\">0</span>.        , <span style=\"color: #008080; text-decoration-color: #008080; font-weight: bold\">0</span>.        , <span style=\"color: #008080; text-decoration-color: #008080; font-weight: bold\">0.36787944</span>,\n",
       "        <span style=\"color: #008080; text-decoration-color: #008080; font-weight: bold\">0</span>.        <span style=\"font-weight: bold\">]</span>,\n",
       "       <span style=\"font-weight: bold\">[</span><span style=\"color: #008080; text-decoration-color: #008080; font-weight: bold\">0.26424112</span>, <span style=\"color: #008080; text-decoration-color: #008080; font-weight: bold\">0</span>.        , <span style=\"color: #008080; text-decoration-color: #008080; font-weight: bold\">0</span>.        , <span style=\"color: #008080; text-decoration-color: #008080; font-weight: bold\">0.36787944</span>, <span style=\"color: #008080; text-decoration-color: #008080; font-weight: bold\">0</span>.        ,\n",
       "        <span style=\"color: #008080; text-decoration-color: #008080; font-weight: bold\">0.36787944</span><span style=\"font-weight: bold\">]</span>,\n",
       "       <span style=\"font-weight: bold\">[</span><span style=\"color: #008080; text-decoration-color: #008080; font-weight: bold\">0</span>.        , <span style=\"color: #008080; text-decoration-color: #008080; font-weight: bold\">0.63212056</span>, <span style=\"color: #008080; text-decoration-color: #008080; font-weight: bold\">0</span>.        , <span style=\"color: #008080; text-decoration-color: #008080; font-weight: bold\">0</span>.        , <span style=\"color: #008080; text-decoration-color: #008080; font-weight: bold\">0.36787944</span>,\n",
       "        <span style=\"color: #008080; text-decoration-color: #008080; font-weight: bold\">0</span>.        <span style=\"font-weight: bold\">]</span>,\n",
       "       <span style=\"font-weight: bold\">[</span><span style=\"color: #008080; text-decoration-color: #008080; font-weight: bold\">0.26424112</span>, <span style=\"color: #008080; text-decoration-color: #008080; font-weight: bold\">0</span>.        , <span style=\"color: #008080; text-decoration-color: #008080; font-weight: bold\">0</span>.        , <span style=\"color: #008080; text-decoration-color: #008080; font-weight: bold\">0.36787944</span>, <span style=\"color: #008080; text-decoration-color: #008080; font-weight: bold\">0</span>.        ,\n",
       "        <span style=\"color: #008080; text-decoration-color: #008080; font-weight: bold\">0.36787944</span><span style=\"font-weight: bold\">]</span>,\n",
       "       <span style=\"font-weight: bold\">[</span><span style=\"color: #008080; text-decoration-color: #008080; font-weight: bold\">0.26424112</span>, <span style=\"color: #008080; text-decoration-color: #008080; font-weight: bold\">0</span>.        , <span style=\"color: #008080; text-decoration-color: #008080; font-weight: bold\">0</span>.        , <span style=\"color: #008080; text-decoration-color: #008080; font-weight: bold\">0.36787944</span>, <span style=\"color: #008080; text-decoration-color: #008080; font-weight: bold\">0</span>.        ,\n",
       "        <span style=\"color: #008080; text-decoration-color: #008080; font-weight: bold\">0.36787944</span><span style=\"font-weight: bold\">]])</span>\n",
       "</pre>\n"
      ],
      "text/plain": [
       "\n",
       "\u001b[1;35marray\u001b[0m\u001b[1m(\u001b[0m\u001b[1m[\u001b[0m\u001b[1m[\u001b[0m\u001b[1;36m0\u001b[0m.        , \u001b[1;36m0\u001b[0m.        , \u001b[1;36m1\u001b[0m.        , \u001b[1;36m0\u001b[0m.        , \u001b[1;36m0\u001b[0m.        ,\n",
       "        \u001b[1;36m0\u001b[0m.        \u001b[1m]\u001b[0m,\n",
       "       \u001b[1m[\u001b[0m\u001b[1;36m0\u001b[0m.        , \u001b[1;36m0.63212056\u001b[0m, \u001b[1;36m0\u001b[0m.        , \u001b[1;36m0\u001b[0m.        , \u001b[1;36m0.36787944\u001b[0m,\n",
       "        \u001b[1;36m0\u001b[0m.        \u001b[1m]\u001b[0m,\n",
       "       \u001b[1m[\u001b[0m\u001b[1;36m0.26424112\u001b[0m, \u001b[1;36m0\u001b[0m.        , \u001b[1;36m0\u001b[0m.        , \u001b[1;36m0.36787944\u001b[0m, \u001b[1;36m0\u001b[0m.        ,\n",
       "        \u001b[1;36m0.36787944\u001b[0m\u001b[1m]\u001b[0m,\n",
       "       \u001b[1m[\u001b[0m\u001b[1;36m0\u001b[0m.        , \u001b[1;36m0.63212056\u001b[0m, \u001b[1;36m0\u001b[0m.        , \u001b[1;36m0\u001b[0m.        , \u001b[1;36m0.36787944\u001b[0m,\n",
       "        \u001b[1;36m0\u001b[0m.        \u001b[1m]\u001b[0m,\n",
       "       \u001b[1m[\u001b[0m\u001b[1;36m0.26424112\u001b[0m, \u001b[1;36m0\u001b[0m.        , \u001b[1;36m0\u001b[0m.        , \u001b[1;36m0.36787944\u001b[0m, \u001b[1;36m0\u001b[0m.        ,\n",
       "        \u001b[1;36m0.36787944\u001b[0m\u001b[1m]\u001b[0m,\n",
       "       \u001b[1m[\u001b[0m\u001b[1;36m0.26424112\u001b[0m, \u001b[1;36m0\u001b[0m.        , \u001b[1;36m0\u001b[0m.        , \u001b[1;36m0.36787944\u001b[0m, \u001b[1;36m0\u001b[0m.        ,\n",
       "        \u001b[1;36m0.36787944\u001b[0m\u001b[1m]\u001b[0m\u001b[1m]\u001b[0m\u001b[1m)\u001b[0m\n"
      ]
     },
     "metadata": {},
     "output_type": "display_data"
    }
   ],
   "source": [
    "trans_prob"
   ]
  },
  {
   "cell_type": "code",
   "execution_count": 71,
   "metadata": {},
   "outputs": [
    {
     "data": {
      "text/html": [
       "<pre style=\"white-space:pre;overflow-x:auto;line-height:normal;font-family:Menlo,'DejaVu Sans Mono',consolas,'Courier New',monospace\">\n",
       "<span style=\"color: #800080; text-decoration-color: #800080; font-weight: bold\">array</span><span style=\"font-weight: bold\">([</span><span style=\"color: #008080; text-decoration-color: #008080; font-weight: bold\">-35.51060433</span>, <span style=\"color: #008080; text-decoration-color: #008080; font-weight: bold\">-27.93226038</span>, <span style=\"color: #008080; text-decoration-color: #008080; font-weight: bold\">-28.34511593</span>, <span style=\"color: #008080; text-decoration-color: #008080; font-weight: bold\">-28.93226038</span>,\n",
       "       <span style=\"color: #008080; text-decoration-color: #008080; font-weight: bold\">-29.34511593</span>, <span style=\"color: #008080; text-decoration-color: #008080; font-weight: bold\">-30.34511593</span><span style=\"font-weight: bold\">])</span>\n",
       "</pre>\n"
      ],
      "text/plain": [
       "\n",
       "\u001b[1;35marray\u001b[0m\u001b[1m(\u001b[0m\u001b[1m[\u001b[0m\u001b[1;36m-35.51060433\u001b[0m, \u001b[1;36m-27.93226038\u001b[0m, \u001b[1;36m-28.34511593\u001b[0m, \u001b[1;36m-28.93226038\u001b[0m,\n",
       "       \u001b[1;36m-29.34511593\u001b[0m, \u001b[1;36m-30.34511593\u001b[0m\u001b[1m]\u001b[0m\u001b[1m)\u001b[0m\n"
      ]
     },
     "metadata": {},
     "output_type": "display_data"
    }
   ],
   "source": [
    "val_func_vec = np.linalg.solve(np.eye(len(states)) - gamma*trans_prob, R_exp)\n",
    "val_func_vec"
   ]
  },
  {
   "cell_type": "code",
   "execution_count": 70,
   "metadata": {},
   "outputs": [
    {
     "data": {
      "text/html": [
       "<pre style=\"white-space:pre;overflow-x:auto;line-height:normal;font-family:Menlo,'DejaVu Sans Mono',consolas,'Courier New',monospace\">\n",
       "<span style=\"color: #800080; text-decoration-color: #800080; font-weight: bold\">array</span><span style=\"font-weight: bold\">([</span><span style=\"color: #008080; text-decoration-color: #008080; font-weight: bold\">-10</span>.        ,  <span style=\"color: #008080; text-decoration-color: #008080; font-weight: bold\">-2.32544158</span>,  <span style=\"color: #008080; text-decoration-color: #008080; font-weight: bold\">-0.27385506</span>,  <span style=\"color: #008080; text-decoration-color: #008080; font-weight: bold\">-3.32544158</span>,\n",
       "        <span style=\"color: #008080; text-decoration-color: #008080; font-weight: bold\">-1.27385506</span>,  <span style=\"color: #008080; text-decoration-color: #008080; font-weight: bold\">-2.27385506</span><span style=\"font-weight: bold\">])</span>\n",
       "</pre>\n"
      ],
      "text/plain": [
       "\n",
       "\u001b[1;35marray\u001b[0m\u001b[1m(\u001b[0m\u001b[1m[\u001b[0m\u001b[1;36m-10\u001b[0m.        ,  \u001b[1;36m-2.32544158\u001b[0m,  \u001b[1;36m-0.27385506\u001b[0m,  \u001b[1;36m-3.32544158\u001b[0m,\n",
       "        \u001b[1;36m-1.27385506\u001b[0m,  \u001b[1;36m-2.27385506\u001b[0m\u001b[1m]\u001b[0m\u001b[1m)\u001b[0m\n"
      ]
     },
     "metadata": {},
     "output_type": "display_data"
    }
   ],
   "source": [
    "R_exp"
   ]
  },
  {
   "cell_type": "code",
   "execution_count": 77,
   "metadata": {},
   "outputs": [
    {
     "data": {
      "text/html": [
       "<div>\n",
       "<style scoped>\n",
       "    .dataframe tbody tr th:only-of-type {\n",
       "        vertical-align: middle;\n",
       "    }\n",
       "\n",
       "    .dataframe tbody tr th {\n",
       "        vertical-align: top;\n",
       "    }\n",
       "\n",
       "    .dataframe thead th {\n",
       "        text-align: right;\n",
       "    }\n",
       "</style>\n",
       "<table border=\"1\" class=\"dataframe\">\n",
       "  <thead>\n",
       "    <tr style=\"text-align: right;\">\n",
       "      <th></th>\n",
       "      <th>Expected Immediate Reward</th>\n",
       "      <th>Value Function</th>\n",
       "    </tr>\n",
       "  </thead>\n",
       "  <tbody>\n",
       "    <tr>\n",
       "      <th>(0, 0)</th>\n",
       "      <td>-10.000000</td>\n",
       "      <td>-35.510604</td>\n",
       "    </tr>\n",
       "    <tr>\n",
       "      <th>(0, 1)</th>\n",
       "      <td>-2.325442</td>\n",
       "      <td>-27.932260</td>\n",
       "    </tr>\n",
       "    <tr>\n",
       "      <th>(0, 2)</th>\n",
       "      <td>-0.273855</td>\n",
       "      <td>-28.345116</td>\n",
       "    </tr>\n",
       "    <tr>\n",
       "      <th>(1, 0)</th>\n",
       "      <td>-3.325442</td>\n",
       "      <td>-28.932260</td>\n",
       "    </tr>\n",
       "    <tr>\n",
       "      <th>(1, 1)</th>\n",
       "      <td>-1.273855</td>\n",
       "      <td>-29.345116</td>\n",
       "    </tr>\n",
       "    <tr>\n",
       "      <th>(2, 0)</th>\n",
       "      <td>-2.273855</td>\n",
       "      <td>-30.345116</td>\n",
       "    </tr>\n",
       "  </tbody>\n",
       "</table>\n",
       "</div>"
      ]
     },
     "execution_count": 77,
     "metadata": {},
     "output_type": "execute_result"
    }
   ],
   "source": [
    "MarkRevData = pd.DataFrame({'Expected Immediate Reward': R_exp, 'Value Function': val_func_vec}, index=states)\n",
    "MarkRevData"
   ]
  },
  {
   "cell_type": "markdown",
   "metadata": {},
   "source": [
    "- This computation for the Value Function works if the state space is not too large.\n",
    "- Whe the state space is large, this direct method of solving a linear system of equations will not scale.\n",
    "- We need to resort to numerical methods (DP, RL)"
   ]
  }
 ],
 "metadata": {
  "kernelspec": {
   "display_name": "RL_finance",
   "language": "python",
   "name": "python3"
  },
  "language_info": {
   "codemirror_mode": {
    "name": "ipython",
    "version": 3
   },
   "file_extension": ".py",
   "mimetype": "text/x-python",
   "name": "python",
   "nbconvert_exporter": "python",
   "pygments_lexer": "ipython3",
   "version": "3.10.4"
  },
  "orig_nbformat": 4
 },
 "nbformat": 4,
 "nbformat_minor": 2
}
