{
 "cells": [
  {
   "cell_type": "markdown",
   "metadata": {},
   "source": [
    "## Inventory Optimization with Dynamic Programming in Less than 100 Python code\n",
    "\n",
    "### Part 3: Implementing the Dynamic Programming for Inventory Optimization."
   ]
  },
  {
   "cell_type": "markdown",
   "metadata": {},
   "source": [
    "In first part of series on Inventory Optimization, a Markov Process was covered. Essentilally Markov Process was introduced to provide model of the states, how to model the transition of states in Inventory Optimization problem.\n",
    "\n",
    "In the second part it was dicussed how fixes policy, can make Markoe reward Processs. The main goal of the second part was to follow Bellman Equation on how to find the Immediate reward and Value function for each state.\n"
   ]
  },
  {
   "cell_type": "markdown",
   "metadata": {},
   "source": [
    "### Markov Decision Process"
   ]
  },
  {
   "cell_type": "markdown",
   "metadata": {},
   "source": [
    "In this article, we are going to summarize everything and couple Markov process and MArkov Reward Process with **Markov Decision Process**.\n",
    "\n",
    "Markov Decision Process is a  process, where all decsions are condidered for each state. In other words, we are going to consider all possible actions for each state.\n",
    "\n",
    "In Markov Reward Process , the decsion were fixed, and we were not considering all possible actions for each state. In MDP, we need to build a data structure that for each state, we need to consider all possible actions, and following the $(S_t,A_t)$, we need to know what will be $(S_{t+1}, R_{t+1})$."
   ]
  },
  {
   "cell_type": "markdown",
   "metadata": {},
   "source": [
    "#### Example of Markov Decision Process Data Structure"
   ]
  },
  {
   "cell_type": "markdown",
   "metadata": {},
   "source": [
    "Here I am giving you an example of MDP dictionary, where as you can see for each state, all possible actions need to be considred, and "
   ]
  },
  {
   "cell_type": "code",
   "execution_count": null,
   "metadata": {},
   "outputs": [],
   "source": [
    "\n",
    "MarkovDecProcessDict = {\"Current State A\":{\"Action 1\":{(\"NextS1fromAact1\", \"Reward1\"): \"PNextS1fromAact1\"\n",
    "                                           ,(\"NextS2fromAact1\", \"Reward2\"): \"PNextS2fromAact1\"},\n",
    "                                           \"Action 2\":{(\"NextS1fromAact2\", \"Reward2\"): \"PNextS1fromAact2\"\n",
    "                                           ,(\"NextS2fromAact2\", \"Reward2\"): \"PNextS2fromAact2\"}},\n",
    "                    \n",
    "                     \"Current State B\":{\"Action 1\":{(\"NextS1fromBact1\", \"Reward1\"): \"PNextS1fromBact1\"\n",
    "                                           ,(\"NextS2fromBact1\", \"Reward2\"): \"PNextS2fromBact1\"},\n",
    "                                           \"Action 2\":{(\"NextS1fromBact2\", \"Reward2\"): \"PNextS1fromBact2\"\n",
    "                                           ,(\"NextS2fromBact2\", \"Reward2\"): \"PNextS2fromBact2\"}}\n",
    "}\n",
    "\n",
    "for current_state, actions in MarkovRewProcessDict.items():\n",
    "    print(f\"Current State: {current_state}\")\n",
    "    \n",
    "    for action, transitions in actions.items():\n",
    "        print(f\"  Action: {action}\")\n",
    "        \n",
    "        for (next_state, reward), probability in transitions.items():\n",
    "            print(f\"  ({next_state},{reward}): {probability}\")"
   ]
  },
  {
   "cell_type": "markdown",
   "metadata": {},
   "source": [
    "## MDP for Inventory Optimization"
   ]
  },
  {
   "cell_type": "markdown",
   "metadata": {},
   "source": [
    "In the first sarticle, we dicussed Markov Process for Inventory Optimization.In the second artcile we dicussed Markov reward Polciy for one **fixed policy** and found what are the state value function of state, if we follow that policy. But, then the question we asked is \"How to find the best policy\"?. To answer that question we are coing to markov Process and here we are building the dictionary, where for each state, we are considering all possible actions, and for each action, we are considering all possible states and rewards.\n",
    "\n",
    "This ditionary name is **MDP_dict** and I wrote hands-one code of it below:\n"
   ]
  },
  {
   "cell_type": "code",
   "execution_count": null,
   "metadata": {},
   "outputs": [],
   "source": [
    "from typing import Dict, Tuple\n",
    "\n",
    "from rich import pretty\n",
    "pretty.install()\n",
    "\n",
    "# need numpy to do some numeric calculation\n",
    "import numpy as np\n",
    "\n",
    "# poisson is used to find pdf of Poisson distribution \n",
    "from scipy.stats import poisson\n",
    "\n",
    "import pandas as pd\n",
    "import numpy as np\n"
   ]
  },
  {
   "cell_type": "code",
   "execution_count": 1,
   "metadata": {},
   "outputs": [
    {
     "data": {
      "text/html": [
       "<pre style=\"white-space:pre;overflow-x:auto;line-height:normal;font-family:Menlo,'DejaVu Sans Mono',consolas,'Courier New',monospace\">\n",
       "<span style=\"font-weight: bold\">{</span>\n",
       "    <span style=\"font-weight: bold\">(</span><span style=\"color: #008080; text-decoration-color: #008080; font-weight: bold\">0</span>, <span style=\"color: #008080; text-decoration-color: #008080; font-weight: bold\">0</span><span style=\"font-weight: bold\">)</span>: <span style=\"font-weight: bold\">{</span>\n",
       "        <span style=\"color: #008080; text-decoration-color: #008080; font-weight: bold\">0</span>: <span style=\"font-weight: bold\">{((</span><span style=\"color: #008080; text-decoration-color: #008080; font-weight: bold\">0</span>, <span style=\"color: #008080; text-decoration-color: #008080; font-weight: bold\">0</span><span style=\"font-weight: bold\">)</span>, <span style=\"color: #008080; text-decoration-color: #008080; font-weight: bold\">-10.0</span><span style=\"font-weight: bold\">)</span>: <span style=\"color: #008080; text-decoration-color: #008080; font-weight: bold\">1.0</span><span style=\"font-weight: bold\">}</span>,\n",
       "        <span style=\"color: #008080; text-decoration-color: #008080; font-weight: bold\">1</span>: <span style=\"font-weight: bold\">{((</span><span style=\"color: #008080; text-decoration-color: #008080; font-weight: bold\">0</span>, <span style=\"color: #008080; text-decoration-color: #008080; font-weight: bold\">1</span><span style=\"font-weight: bold\">)</span>, <span style=\"color: #008080; text-decoration-color: #008080; font-weight: bold\">-10.0</span><span style=\"font-weight: bold\">)</span>: <span style=\"color: #008080; text-decoration-color: #008080; font-weight: bold\">1.0</span><span style=\"font-weight: bold\">}</span>,\n",
       "        <span style=\"color: #008080; text-decoration-color: #008080; font-weight: bold\">2</span>: <span style=\"font-weight: bold\">{((</span><span style=\"color: #008080; text-decoration-color: #008080; font-weight: bold\">0</span>, <span style=\"color: #008080; text-decoration-color: #008080; font-weight: bold\">2</span><span style=\"font-weight: bold\">)</span>, <span style=\"color: #008080; text-decoration-color: #008080; font-weight: bold\">-10.0</span><span style=\"font-weight: bold\">)</span>: <span style=\"color: #008080; text-decoration-color: #008080; font-weight: bold\">1.0</span><span style=\"font-weight: bold\">}</span>\n",
       "    <span style=\"font-weight: bold\">}</span>,\n",
       "    <span style=\"font-weight: bold\">(</span><span style=\"color: #008080; text-decoration-color: #008080; font-weight: bold\">0</span>, <span style=\"color: #008080; text-decoration-color: #008080; font-weight: bold\">1</span><span style=\"font-weight: bold\">)</span>: <span style=\"font-weight: bold\">{</span>\n",
       "        <span style=\"color: #008080; text-decoration-color: #008080; font-weight: bold\">0</span>: <span style=\"font-weight: bold\">{</span>\n",
       "            <span style=\"font-weight: bold\">((</span><span style=\"color: #008080; text-decoration-color: #008080; font-weight: bold\">1</span>, <span style=\"color: #008080; text-decoration-color: #008080; font-weight: bold\">0</span><span style=\"font-weight: bold\">)</span>, <span style=\"color: #008080; text-decoration-color: #008080; font-weight: bold\">0</span><span style=\"font-weight: bold\">)</span>: <span style=\"color: #008080; text-decoration-color: #008080; font-weight: bold\">0.3678794411714424</span>,\n",
       "            <span style=\"font-weight: bold\">((</span><span style=\"color: #008080; text-decoration-color: #008080; font-weight: bold\">0</span>, <span style=\"color: #008080; text-decoration-color: #008080; font-weight: bold\">0</span><span style=\"font-weight: bold\">)</span>, <span style=\"color: #008080; text-decoration-color: #008080; font-weight: bold\">-3.6787944117144225</span><span style=\"font-weight: bold\">)</span>: <span style=\"color: #008080; text-decoration-color: #008080; font-weight: bold\">0.6321205588285576</span>\n",
       "        <span style=\"font-weight: bold\">}</span>,\n",
       "        <span style=\"color: #008080; text-decoration-color: #008080; font-weight: bold\">1</span>: <span style=\"font-weight: bold\">{</span>\n",
       "            <span style=\"font-weight: bold\">((</span><span style=\"color: #008080; text-decoration-color: #008080; font-weight: bold\">1</span>, <span style=\"color: #008080; text-decoration-color: #008080; font-weight: bold\">1</span><span style=\"font-weight: bold\">)</span>, <span style=\"color: #008080; text-decoration-color: #008080; font-weight: bold\">0</span><span style=\"font-weight: bold\">)</span>: <span style=\"color: #008080; text-decoration-color: #008080; font-weight: bold\">0.3678794411714424</span>,\n",
       "            <span style=\"font-weight: bold\">((</span><span style=\"color: #008080; text-decoration-color: #008080; font-weight: bold\">0</span>, <span style=\"color: #008080; text-decoration-color: #008080; font-weight: bold\">1</span><span style=\"font-weight: bold\">)</span>, <span style=\"color: #008080; text-decoration-color: #008080; font-weight: bold\">-3.6787944117144225</span><span style=\"font-weight: bold\">)</span>: <span style=\"color: #008080; text-decoration-color: #008080; font-weight: bold\">0.6321205588285576</span>\n",
       "        <span style=\"font-weight: bold\">}</span>\n",
       "    <span style=\"font-weight: bold\">}</span>,\n",
       "    <span style=\"font-weight: bold\">(</span><span style=\"color: #008080; text-decoration-color: #008080; font-weight: bold\">0</span>, <span style=\"color: #008080; text-decoration-color: #008080; font-weight: bold\">2</span><span style=\"font-weight: bold\">)</span>: <span style=\"font-weight: bold\">{</span>\n",
       "        <span style=\"color: #008080; text-decoration-color: #008080; font-weight: bold\">0</span>: <span style=\"font-weight: bold\">{</span>\n",
       "            <span style=\"font-weight: bold\">((</span><span style=\"color: #008080; text-decoration-color: #008080; font-weight: bold\">2</span>, <span style=\"color: #008080; text-decoration-color: #008080; font-weight: bold\">0</span><span style=\"font-weight: bold\">)</span>, <span style=\"color: #008080; text-decoration-color: #008080; font-weight: bold\">0</span><span style=\"font-weight: bold\">)</span>: <span style=\"color: #008080; text-decoration-color: #008080; font-weight: bold\">0.3678794411714424</span>,\n",
       "            <span style=\"font-weight: bold\">((</span><span style=\"color: #008080; text-decoration-color: #008080; font-weight: bold\">1</span>, <span style=\"color: #008080; text-decoration-color: #008080; font-weight: bold\">0</span><span style=\"font-weight: bold\">)</span>, <span style=\"color: #008080; text-decoration-color: #008080; font-weight: bold\">0</span><span style=\"font-weight: bold\">)</span>: <span style=\"color: #008080; text-decoration-color: #008080; font-weight: bold\">0.3678794411714424</span>,\n",
       "            <span style=\"font-weight: bold\">((</span><span style=\"color: #008080; text-decoration-color: #008080; font-weight: bold\">0</span>, <span style=\"color: #008080; text-decoration-color: #008080; font-weight: bold\">0</span><span style=\"font-weight: bold\">)</span>, <span style=\"color: #008080; text-decoration-color: #008080; font-weight: bold\">-1.03638323514327</span><span style=\"font-weight: bold\">)</span>: <span style=\"color: #008080; text-decoration-color: #008080; font-weight: bold\">0.26424111765711533</span>\n",
       "        <span style=\"font-weight: bold\">}</span>\n",
       "    <span style=\"font-weight: bold\">}</span>,\n",
       "    <span style=\"font-weight: bold\">(</span><span style=\"color: #008080; text-decoration-color: #008080; font-weight: bold\">1</span>, <span style=\"color: #008080; text-decoration-color: #008080; font-weight: bold\">0</span><span style=\"font-weight: bold\">)</span>: <span style=\"font-weight: bold\">{</span>\n",
       "        <span style=\"color: #008080; text-decoration-color: #008080; font-weight: bold\">0</span>: <span style=\"font-weight: bold\">{</span>\n",
       "            <span style=\"font-weight: bold\">((</span><span style=\"color: #008080; text-decoration-color: #008080; font-weight: bold\">1</span>, <span style=\"color: #008080; text-decoration-color: #008080; font-weight: bold\">0</span><span style=\"font-weight: bold\">)</span>, <span style=\"color: #008080; text-decoration-color: #008080; font-weight: bold\">-1</span><span style=\"font-weight: bold\">)</span>: <span style=\"color: #008080; text-decoration-color: #008080; font-weight: bold\">0.3678794411714424</span>,\n",
       "            <span style=\"font-weight: bold\">((</span><span style=\"color: #008080; text-decoration-color: #008080; font-weight: bold\">0</span>, <span style=\"color: #008080; text-decoration-color: #008080; font-weight: bold\">0</span><span style=\"font-weight: bold\">)</span>, <span style=\"color: #008080; text-decoration-color: #008080; font-weight: bold\">-4.6787944117144225</span><span style=\"font-weight: bold\">)</span>: <span style=\"color: #008080; text-decoration-color: #008080; font-weight: bold\">0.6321205588285576</span>\n",
       "        <span style=\"font-weight: bold\">}</span>,\n",
       "        <span style=\"color: #008080; text-decoration-color: #008080; font-weight: bold\">1</span>: <span style=\"font-weight: bold\">{</span>\n",
       "            <span style=\"font-weight: bold\">((</span><span style=\"color: #008080; text-decoration-color: #008080; font-weight: bold\">1</span>, <span style=\"color: #008080; text-decoration-color: #008080; font-weight: bold\">1</span><span style=\"font-weight: bold\">)</span>, <span style=\"color: #008080; text-decoration-color: #008080; font-weight: bold\">-1</span><span style=\"font-weight: bold\">)</span>: <span style=\"color: #008080; text-decoration-color: #008080; font-weight: bold\">0.3678794411714424</span>,\n",
       "            <span style=\"font-weight: bold\">((</span><span style=\"color: #008080; text-decoration-color: #008080; font-weight: bold\">0</span>, <span style=\"color: #008080; text-decoration-color: #008080; font-weight: bold\">1</span><span style=\"font-weight: bold\">)</span>, <span style=\"color: #008080; text-decoration-color: #008080; font-weight: bold\">-4.6787944117144225</span><span style=\"font-weight: bold\">)</span>: <span style=\"color: #008080; text-decoration-color: #008080; font-weight: bold\">0.6321205588285576</span>\n",
       "        <span style=\"font-weight: bold\">}</span>\n",
       "    <span style=\"font-weight: bold\">}</span>,\n",
       "    <span style=\"font-weight: bold\">(</span><span style=\"color: #008080; text-decoration-color: #008080; font-weight: bold\">1</span>, <span style=\"color: #008080; text-decoration-color: #008080; font-weight: bold\">1</span><span style=\"font-weight: bold\">)</span>: <span style=\"font-weight: bold\">{</span>\n",
       "        <span style=\"color: #008080; text-decoration-color: #008080; font-weight: bold\">0</span>: <span style=\"font-weight: bold\">{</span>\n",
       "            <span style=\"font-weight: bold\">((</span><span style=\"color: #008080; text-decoration-color: #008080; font-weight: bold\">2</span>, <span style=\"color: #008080; text-decoration-color: #008080; font-weight: bold\">0</span><span style=\"font-weight: bold\">)</span>, <span style=\"color: #008080; text-decoration-color: #008080; font-weight: bold\">-1</span><span style=\"font-weight: bold\">)</span>: <span style=\"color: #008080; text-decoration-color: #008080; font-weight: bold\">0.3678794411714424</span>,\n",
       "            <span style=\"font-weight: bold\">((</span><span style=\"color: #008080; text-decoration-color: #008080; font-weight: bold\">1</span>, <span style=\"color: #008080; text-decoration-color: #008080; font-weight: bold\">0</span><span style=\"font-weight: bold\">)</span>, <span style=\"color: #008080; text-decoration-color: #008080; font-weight: bold\">-1</span><span style=\"font-weight: bold\">)</span>: <span style=\"color: #008080; text-decoration-color: #008080; font-weight: bold\">0.3678794411714424</span>,\n",
       "            <span style=\"font-weight: bold\">((</span><span style=\"color: #008080; text-decoration-color: #008080; font-weight: bold\">0</span>, <span style=\"color: #008080; text-decoration-color: #008080; font-weight: bold\">0</span><span style=\"font-weight: bold\">)</span>, <span style=\"color: #008080; text-decoration-color: #008080; font-weight: bold\">-2.03638323514327</span><span style=\"font-weight: bold\">)</span>: <span style=\"color: #008080; text-decoration-color: #008080; font-weight: bold\">0.26424111765711533</span>\n",
       "        <span style=\"font-weight: bold\">}</span>\n",
       "    <span style=\"font-weight: bold\">}</span>,\n",
       "    <span style=\"font-weight: bold\">(</span><span style=\"color: #008080; text-decoration-color: #008080; font-weight: bold\">2</span>, <span style=\"color: #008080; text-decoration-color: #008080; font-weight: bold\">0</span><span style=\"font-weight: bold\">)</span>: <span style=\"font-weight: bold\">{</span>\n",
       "        <span style=\"color: #008080; text-decoration-color: #008080; font-weight: bold\">0</span>: <span style=\"font-weight: bold\">{</span>\n",
       "            <span style=\"font-weight: bold\">((</span><span style=\"color: #008080; text-decoration-color: #008080; font-weight: bold\">2</span>, <span style=\"color: #008080; text-decoration-color: #008080; font-weight: bold\">0</span><span style=\"font-weight: bold\">)</span>, <span style=\"color: #008080; text-decoration-color: #008080; font-weight: bold\">-2</span><span style=\"font-weight: bold\">)</span>: <span style=\"color: #008080; text-decoration-color: #008080; font-weight: bold\">0.3678794411714424</span>,\n",
       "            <span style=\"font-weight: bold\">((</span><span style=\"color: #008080; text-decoration-color: #008080; font-weight: bold\">1</span>, <span style=\"color: #008080; text-decoration-color: #008080; font-weight: bold\">0</span><span style=\"font-weight: bold\">)</span>, <span style=\"color: #008080; text-decoration-color: #008080; font-weight: bold\">-2</span><span style=\"font-weight: bold\">)</span>: <span style=\"color: #008080; text-decoration-color: #008080; font-weight: bold\">0.3678794411714424</span>,\n",
       "            <span style=\"font-weight: bold\">((</span><span style=\"color: #008080; text-decoration-color: #008080; font-weight: bold\">0</span>, <span style=\"color: #008080; text-decoration-color: #008080; font-weight: bold\">0</span><span style=\"font-weight: bold\">)</span>, <span style=\"color: #008080; text-decoration-color: #008080; font-weight: bold\">-3.03638323514327</span><span style=\"font-weight: bold\">)</span>: <span style=\"color: #008080; text-decoration-color: #008080; font-weight: bold\">0.26424111765711533</span>\n",
       "        <span style=\"font-weight: bold\">}</span>\n",
       "    <span style=\"font-weight: bold\">}</span>\n",
       "<span style=\"font-weight: bold\">}</span>\n",
       "</pre>\n"
      ],
      "text/plain": [
       "\n",
       "\u001b[1m{\u001b[0m\n",
       "    \u001b[1m(\u001b[0m\u001b[1;36m0\u001b[0m, \u001b[1;36m0\u001b[0m\u001b[1m)\u001b[0m: \u001b[1m{\u001b[0m\n",
       "        \u001b[1;36m0\u001b[0m: \u001b[1m{\u001b[0m\u001b[1m(\u001b[0m\u001b[1m(\u001b[0m\u001b[1;36m0\u001b[0m, \u001b[1;36m0\u001b[0m\u001b[1m)\u001b[0m, \u001b[1;36m-10.0\u001b[0m\u001b[1m)\u001b[0m: \u001b[1;36m1.0\u001b[0m\u001b[1m}\u001b[0m,\n",
       "        \u001b[1;36m1\u001b[0m: \u001b[1m{\u001b[0m\u001b[1m(\u001b[0m\u001b[1m(\u001b[0m\u001b[1;36m0\u001b[0m, \u001b[1;36m1\u001b[0m\u001b[1m)\u001b[0m, \u001b[1;36m-10.0\u001b[0m\u001b[1m)\u001b[0m: \u001b[1;36m1.0\u001b[0m\u001b[1m}\u001b[0m,\n",
       "        \u001b[1;36m2\u001b[0m: \u001b[1m{\u001b[0m\u001b[1m(\u001b[0m\u001b[1m(\u001b[0m\u001b[1;36m0\u001b[0m, \u001b[1;36m2\u001b[0m\u001b[1m)\u001b[0m, \u001b[1;36m-10.0\u001b[0m\u001b[1m)\u001b[0m: \u001b[1;36m1.0\u001b[0m\u001b[1m}\u001b[0m\n",
       "    \u001b[1m}\u001b[0m,\n",
       "    \u001b[1m(\u001b[0m\u001b[1;36m0\u001b[0m, \u001b[1;36m1\u001b[0m\u001b[1m)\u001b[0m: \u001b[1m{\u001b[0m\n",
       "        \u001b[1;36m0\u001b[0m: \u001b[1m{\u001b[0m\n",
       "            \u001b[1m(\u001b[0m\u001b[1m(\u001b[0m\u001b[1;36m1\u001b[0m, \u001b[1;36m0\u001b[0m\u001b[1m)\u001b[0m, \u001b[1;36m0\u001b[0m\u001b[1m)\u001b[0m: \u001b[1;36m0.3678794411714424\u001b[0m,\n",
       "            \u001b[1m(\u001b[0m\u001b[1m(\u001b[0m\u001b[1;36m0\u001b[0m, \u001b[1;36m0\u001b[0m\u001b[1m)\u001b[0m, \u001b[1;36m-3.6787944117144225\u001b[0m\u001b[1m)\u001b[0m: \u001b[1;36m0.6321205588285576\u001b[0m\n",
       "        \u001b[1m}\u001b[0m,\n",
       "        \u001b[1;36m1\u001b[0m: \u001b[1m{\u001b[0m\n",
       "            \u001b[1m(\u001b[0m\u001b[1m(\u001b[0m\u001b[1;36m1\u001b[0m, \u001b[1;36m1\u001b[0m\u001b[1m)\u001b[0m, \u001b[1;36m0\u001b[0m\u001b[1m)\u001b[0m: \u001b[1;36m0.3678794411714424\u001b[0m,\n",
       "            \u001b[1m(\u001b[0m\u001b[1m(\u001b[0m\u001b[1;36m0\u001b[0m, \u001b[1;36m1\u001b[0m\u001b[1m)\u001b[0m, \u001b[1;36m-3.6787944117144225\u001b[0m\u001b[1m)\u001b[0m: \u001b[1;36m0.6321205588285576\u001b[0m\n",
       "        \u001b[1m}\u001b[0m\n",
       "    \u001b[1m}\u001b[0m,\n",
       "    \u001b[1m(\u001b[0m\u001b[1;36m0\u001b[0m, \u001b[1;36m2\u001b[0m\u001b[1m)\u001b[0m: \u001b[1m{\u001b[0m\n",
       "        \u001b[1;36m0\u001b[0m: \u001b[1m{\u001b[0m\n",
       "            \u001b[1m(\u001b[0m\u001b[1m(\u001b[0m\u001b[1;36m2\u001b[0m, \u001b[1;36m0\u001b[0m\u001b[1m)\u001b[0m, \u001b[1;36m0\u001b[0m\u001b[1m)\u001b[0m: \u001b[1;36m0.3678794411714424\u001b[0m,\n",
       "            \u001b[1m(\u001b[0m\u001b[1m(\u001b[0m\u001b[1;36m1\u001b[0m, \u001b[1;36m0\u001b[0m\u001b[1m)\u001b[0m, \u001b[1;36m0\u001b[0m\u001b[1m)\u001b[0m: \u001b[1;36m0.3678794411714424\u001b[0m,\n",
       "            \u001b[1m(\u001b[0m\u001b[1m(\u001b[0m\u001b[1;36m0\u001b[0m, \u001b[1;36m0\u001b[0m\u001b[1m)\u001b[0m, \u001b[1;36m-1.03638323514327\u001b[0m\u001b[1m)\u001b[0m: \u001b[1;36m0.26424111765711533\u001b[0m\n",
       "        \u001b[1m}\u001b[0m\n",
       "    \u001b[1m}\u001b[0m,\n",
       "    \u001b[1m(\u001b[0m\u001b[1;36m1\u001b[0m, \u001b[1;36m0\u001b[0m\u001b[1m)\u001b[0m: \u001b[1m{\u001b[0m\n",
       "        \u001b[1;36m0\u001b[0m: \u001b[1m{\u001b[0m\n",
       "            \u001b[1m(\u001b[0m\u001b[1m(\u001b[0m\u001b[1;36m1\u001b[0m, \u001b[1;36m0\u001b[0m\u001b[1m)\u001b[0m, \u001b[1;36m-1\u001b[0m\u001b[1m)\u001b[0m: \u001b[1;36m0.3678794411714424\u001b[0m,\n",
       "            \u001b[1m(\u001b[0m\u001b[1m(\u001b[0m\u001b[1;36m0\u001b[0m, \u001b[1;36m0\u001b[0m\u001b[1m)\u001b[0m, \u001b[1;36m-4.6787944117144225\u001b[0m\u001b[1m)\u001b[0m: \u001b[1;36m0.6321205588285576\u001b[0m\n",
       "        \u001b[1m}\u001b[0m,\n",
       "        \u001b[1;36m1\u001b[0m: \u001b[1m{\u001b[0m\n",
       "            \u001b[1m(\u001b[0m\u001b[1m(\u001b[0m\u001b[1;36m1\u001b[0m, \u001b[1;36m1\u001b[0m\u001b[1m)\u001b[0m, \u001b[1;36m-1\u001b[0m\u001b[1m)\u001b[0m: \u001b[1;36m0.3678794411714424\u001b[0m,\n",
       "            \u001b[1m(\u001b[0m\u001b[1m(\u001b[0m\u001b[1;36m0\u001b[0m, \u001b[1;36m1\u001b[0m\u001b[1m)\u001b[0m, \u001b[1;36m-4.6787944117144225\u001b[0m\u001b[1m)\u001b[0m: \u001b[1;36m0.6321205588285576\u001b[0m\n",
       "        \u001b[1m}\u001b[0m\n",
       "    \u001b[1m}\u001b[0m,\n",
       "    \u001b[1m(\u001b[0m\u001b[1;36m1\u001b[0m, \u001b[1;36m1\u001b[0m\u001b[1m)\u001b[0m: \u001b[1m{\u001b[0m\n",
       "        \u001b[1;36m0\u001b[0m: \u001b[1m{\u001b[0m\n",
       "            \u001b[1m(\u001b[0m\u001b[1m(\u001b[0m\u001b[1;36m2\u001b[0m, \u001b[1;36m0\u001b[0m\u001b[1m)\u001b[0m, \u001b[1;36m-1\u001b[0m\u001b[1m)\u001b[0m: \u001b[1;36m0.3678794411714424\u001b[0m,\n",
       "            \u001b[1m(\u001b[0m\u001b[1m(\u001b[0m\u001b[1;36m1\u001b[0m, \u001b[1;36m0\u001b[0m\u001b[1m)\u001b[0m, \u001b[1;36m-1\u001b[0m\u001b[1m)\u001b[0m: \u001b[1;36m0.3678794411714424\u001b[0m,\n",
       "            \u001b[1m(\u001b[0m\u001b[1m(\u001b[0m\u001b[1;36m0\u001b[0m, \u001b[1;36m0\u001b[0m\u001b[1m)\u001b[0m, \u001b[1;36m-2.03638323514327\u001b[0m\u001b[1m)\u001b[0m: \u001b[1;36m0.26424111765711533\u001b[0m\n",
       "        \u001b[1m}\u001b[0m\n",
       "    \u001b[1m}\u001b[0m,\n",
       "    \u001b[1m(\u001b[0m\u001b[1;36m2\u001b[0m, \u001b[1;36m0\u001b[0m\u001b[1m)\u001b[0m: \u001b[1m{\u001b[0m\n",
       "        \u001b[1;36m0\u001b[0m: \u001b[1m{\u001b[0m\n",
       "            \u001b[1m(\u001b[0m\u001b[1m(\u001b[0m\u001b[1;36m2\u001b[0m, \u001b[1;36m0\u001b[0m\u001b[1m)\u001b[0m, \u001b[1;36m-2\u001b[0m\u001b[1m)\u001b[0m: \u001b[1;36m0.3678794411714424\u001b[0m,\n",
       "            \u001b[1m(\u001b[0m\u001b[1m(\u001b[0m\u001b[1;36m1\u001b[0m, \u001b[1;36m0\u001b[0m\u001b[1m)\u001b[0m, \u001b[1;36m-2\u001b[0m\u001b[1m)\u001b[0m: \u001b[1;36m0.3678794411714424\u001b[0m,\n",
       "            \u001b[1m(\u001b[0m\u001b[1m(\u001b[0m\u001b[1;36m0\u001b[0m, \u001b[1;36m0\u001b[0m\u001b[1m)\u001b[0m, \u001b[1;36m-3.03638323514327\u001b[0m\u001b[1m)\u001b[0m: \u001b[1;36m0.26424111765711533\u001b[0m\n",
       "        \u001b[1m}\u001b[0m\n",
       "    \u001b[1m}\u001b[0m\n",
       "\u001b[1m}\u001b[0m\n"
      ]
     },
     "metadata": {},
     "output_type": "display_data"
    }
   ],
   "source": [
    "from typing import Dict, Tuple\n",
    "from scipy.stats import poisson\n",
    "from typing import Dict\n",
    "\n",
    "from rich import pretty\n",
    "pretty.install()\n",
    "\n",
    "MDP_dict: Dict[tuple, Dict[tuple, tuple]] = {}\n",
    "\n",
    "user_capacity = 2\n",
    "user_poisson_lambda = 1\n",
    "holding_cost = 1\n",
    "missedcostumer_cost = 10\n",
    "\n",
    "\n",
    "\n",
    "for alpha in range(user_capacity+1):                            \n",
    "                                                               \n",
    "    for beta in range(user_capacity + 1 - alpha):\n",
    "        \n",
    "        # This is St, the current state\n",
    "        state = (alpha, beta)                                   \n",
    "\n",
    "        # This is initial inventory, total bike you have at 8AM \n",
    "        init_inv = alpha + beta                         \n",
    "        \n",
    "        # The beta1 is the beta in next state, irrespctive of current state (as the decsion policy is constant)\n",
    "        beta1 = user_capacity - init_inv\n",
    "        \n",
    "        base_reward = -alpha* holding_cost\n",
    "        # List of all possible demand you can get\n",
    "        \n",
    "        #dict1 = {}\n",
    "        action = {}\n",
    "        # Consider all possible actions\n",
    "        for order in range(user_capacity-init_inv +1):\n",
    "            \n",
    "            #action = {}\n",
    "            dict1 = {}\n",
    "            for i in range(init_inv +1):\n",
    "\n",
    "            # if initial demand can meet the deman\n",
    "                if i <= (init_inv-1):\n",
    "                \n",
    "                # probality of specifc demand can happen\n",
    "                    transition_prob = poisson.pmf(i,user_poisson_lambda)\n",
    "\n",
    "                    dict1[((init_inv - i, order), base_reward)] = transition_prob\n",
    "\n",
    "                         \n",
    "            # if initial demand can not meet the demand\n",
    "                else:\n",
    "                \n",
    "                    transition_prob = 1- poisson.cdf(init_inv -1, user_poisson_lambda)\n",
    "                \n",
    "                # probability of not meeting the demands\n",
    "                    transition_prob2 = 1- poisson.cdf(init_inv, user_poisson_lambda)\n",
    "                \n",
    "                # total reward\n",
    "                \n",
    "                    reward = base_reward - missedcostumer_cost*((user_poisson_lambda*transition_prob) - \\\n",
    "                                                  init_inv*transition_prob2)                \n",
    "\n",
    "                    dict1[((init_inv - i, order),reward)] = transition_prob\n",
    "\n",
    "                    #if state in MDP_dict:\n",
    "\n",
    "            action[order] = dict1\n",
    "\n",
    "        MDP_dict[state]= action\n",
    "\n",
    "MDP_dict\n",
    "# Constants\n"
   ]
  },
  {
   "cell_type": "code",
   "execution_count": null,
   "metadata": {},
   "outputs": [],
   "source": [
    "MDP_dict"
   ]
  },
  {
   "cell_type": "code",
   "execution_count": 5,
   "metadata": {},
   "outputs": [
    {
     "data": {
      "image/png": "[encoded data removed]"
     },
     "metadata": {},
     "output_type": "display_data"
    }
   ],
   "source": [
    "from IPython.display import Image, display\n",
    "display(Image(filename=\"Img/explainmDPdic.png\"))"
   ]
  },
  {
   "cell_type": "markdown",
   "metadata": {},
   "source": [
    "### Sequence of the Policy Iteration algorithm:\n",
    "- Start with V and Random Policy\n",
    "- Apply that Policy\n",
    "- Get the Value function of the states using the (matrix operation)\n",
    "- Apply the greedy policy \n",
    "- New policy"
   ]
  },
  {
   "cell_type": "code",
   "execution_count": null,
   "metadata": {},
   "outputs": [],
   "source": [
    "MDP_dict"
   ]
  },
  {
   "cell_type": "code",
   "execution_count": null,
   "metadata": {},
   "outputs": [],
   "source": [
    "import random\n",
    "pi_0 = random.choice([1,2,3])\n",
    "pi_0"
   ]
  },
  {
   "cell_type": "code",
   "execution_count": null,
   "metadata": {},
   "outputs": [],
   "source": [
    "MDP_dict[(0,0)]"
   ]
  },
  {
   "cell_type": "code",
   "execution_count": null,
   "metadata": {},
   "outputs": [],
   "source": [
    "MDP_dict[(0,1)].keys()"
   ]
  },
  {
   "cell_type": "code",
   "execution_count": null,
   "metadata": {},
   "outputs": [],
   "source": [
    "random.choice(list(MDP_dict[(0,1)].keys()))"
   ]
  },
  {
   "cell_type": "code",
   "execution_count": null,
   "metadata": {},
   "outputs": [],
   "source": [
    "list(MDP_dict[(0,1)].keys())"
   ]
  },
  {
   "cell_type": "code",
   "execution_count": null,
   "metadata": {},
   "outputs": [],
   "source": [
    "pi_0 = {}\n",
    "for states in MDP_dict.keys():\n",
    "    random_choice = random.choice(list(MDP_dict[states].keys()))\n",
    "    pi_0[states] = random_choice"
   ]
  },
  {
   "cell_type": "code",
   "execution_count": null,
   "metadata": {},
   "outputs": [],
   "source": []
  },
  {
   "cell_type": "code",
   "execution_count": null,
   "metadata": {},
   "outputs": [],
   "source": [
    "pi_0"
   ]
  },
  {
   "cell_type": "code",
   "execution_count": null,
   "metadata": {},
   "outputs": [],
   "source": [
    "from typing import Dict, Tuple\n",
    "from scipy.stats import poisson\n",
    "import numpy as np\n",
    "import pandas as pd\n",
    "\n",
    "class MarkovDecProcess_policy:\n",
    "    def __init__(self, fixed_policy):\n",
    "        self.MRP_dict = {}\n",
    "        self.fixed_policy = fixed_policy\n",
    "\n",
    "    def generate_Markov_Rew_Process_Dict(self, user_capacity: int, user_poisson_lambda: int,\n",
    "                                          holding_cost: int, missedcostumer_cost: int):\n",
    "        self.MRP_dict = {}  # Initialize the Markov Reward Process Dictionary\n",
    "\n",
    "        for alpha in range(user_capacity + 1):\n",
    "            for beta in range(user_capacity + 1 - alpha):\n",
    "            \n",
    "                state = (alpha, beta)\n",
    "                init_inv = alpha + beta\n",
    "                #beta1 = user_capacity - init_inv\n",
    "                \n",
    "                beta1=self.fixed_policy[state]\n",
    "                \n",
    "                base_reward = -alpha * holding_cost\n",
    "            \n",
    "                for demand in range(init_inv + 1):\n",
    "                    if demand <= (init_inv - 1):\n",
    "                        transition_prob = poisson.pmf(demand, user_poisson_lambda)\n",
    "                                                \n",
    "                        if state in self.MRP_dict:\n",
    "                            self.MRP_dict[state][((init_inv - demand, beta1), base_reward)] = transition_prob\n",
    "                        else:\n",
    "                            self.MRP_dict[state] = {((init_inv - demand, beta1), base_reward): transition_prob}\n",
    "                    else:\n",
    "                        transition_prob = 1 - poisson.cdf(init_inv - 1, user_poisson_lambda)\n",
    "                        transition_prob2 = 1 - poisson.cdf(init_inv, user_poisson_lambda)\n",
    "                        reward = base_reward - missedcostumer_cost * ((user_poisson_lambda * transition_prob) -\n",
    "                                                                init_inv * transition_prob2)\n",
    "                        if state in self.MRP_dict:\n",
    "                            self.MRP_dict[state][((0, beta1), reward)] = transition_prob\n",
    "                        else:\n",
    "                            self.MRP_dict[state] = {((0, beta1), reward): transition_prob}\n",
    "\n",
    "    def calculate_expected_immediate_rewards(self):\n",
    "        E_immediate_R = {}\n",
    "        for from_state, value in self.MRP_dict.items():\n",
    "            expected_reward = sum(reward[1] * prob for (reward, prob) in value.items())\n",
    "            E_immediate_R[from_state] = expected_reward\n",
    "        return E_immediate_R\n",
    "\n",
    "    def create_transition_probability_matrix(self):\n",
    "        states = list(self.MRP_dict.keys())\n",
    "        num_states = len(states)\n",
    "        trans_prob = np.zeros((num_states, num_states))\n",
    "        df_trans_prob = pd.DataFrame(trans_prob, columns=states, index=states)\n",
    "\n",
    "        for i, from_state in enumerate(states):\n",
    "            for j, to_state in enumerate(states):\n",
    "                for (new_state, reward) in self.MRP_dict.get(from_state, {}):\n",
    "                    if new_state == to_state:\n",
    "                        probability = self.MRP_dict[from_state].get((new_state, reward), 0.0)\n",
    "                        df_trans_prob.iloc[i, j] = probability\n",
    "        return df_trans_prob\n",
    "\n",
    "    def calculate_state_value_function(self, trans_prob_mat, expected_immediate_rew, gamma):\n",
    "        states = list(expected_immediate_rew.keys())\n",
    "        R_exp = np.array(list(expected_immediate_rew.values()))\n",
    "        val_func_vec = np.linalg.solve(np.eye(len(R_exp)) - gamma * trans_prob_mat, R_exp)\n",
    "        MarkRevData = pd.DataFrame({'Expected Immediate Reward': R_exp, 'Value Function': val_func_vec}, index=states)\n",
    "        return MarkRevData\n"
   ]
  },
  {
   "cell_type": "code",
   "execution_count": null,
   "metadata": {},
   "outputs": [],
   "source": [
    "policy_0 = {}\n",
    "for states in MDP_dict.keys():\n",
    "    random_choice = random.choice(list(MDP_dict[states].keys()))\n",
    "    policy_0[states] = random_choice\n",
    "policy_0"
   ]
  },
  {
   "cell_type": "code",
   "execution_count": null,
   "metadata": {},
   "outputs": [],
   "source": [
    "pi_0[(0,0)]"
   ]
  },
  {
   "cell_type": "code",
   "execution_count": null,
   "metadata": {},
   "outputs": [],
   "source": [
    "policy_0 = {}\n",
    "\n",
    "for states in MDP_dict.keys():\n",
    "    random_choice = random.choice(list(MDP_dict[states].keys()))\n",
    "    policy_0[states] = random_choice\n",
    "\n",
    "#policy_0\n",
    "\n",
    "MRP_p0 = MarkovDecProcess_policy(fixed_policy=policy_0)\n",
    "\n",
    "user_capacity = 2\n",
    "user_poisson_lambda = 2\n",
    "holding_cost = 1\n",
    "missedcostumer_cost = 10\n",
    "\n",
    "MRP_p0.generate_Markov_Rew_Process_Dict(user_capacity, user_poisson_lambda, \n",
    "                                            holding_cost, missedcostumer_cost)\n",
    "\n",
    "E_immediate_R = MRP_p0.calculate_expected_immediate_rewards()\n",
    "trans_prob_mat = MRP_p0.create_transition_probability_matrix()\n",
    "\n",
    "gamma = 0.9  # Replace with your desired discount factor\n",
    "MRP_Data = MRP_p0.calculate_state_value_function(trans_prob_mat, E_immediate_R, gamma)\n",
    "\n",
    "print(MRP_Data)"
   ]
  },
  {
   "cell_type": "markdown",
   "metadata": {},
   "source": [
    "### TO NEXT\n",
    "- Think about how to use the MDP_fixedpolicy\n",
    "- Chnage policy and see how it produce the resulted table\n",
    "- For each state then, q value should be claculted (using the V mapping we have from \n",
    "  previus stage) going through all the possible actions, max **q** should be slected.\n",
    "- Then we ended up new policy"
   ]
  },
  {
   "cell_type": "code",
   "execution_count": null,
   "metadata": {},
   "outputs": [],
   "source": []
  },
  {
   "cell_type": "markdown",
   "metadata": {},
   "source": [
    "Go test2.py fil \n",
    "- Code working Here\n",
    "- Now think how probality transition matrix chnage\n",
    "- to calcute \n",
    "- Probaly I need that big matrix of the MArkov Decision Process\n",
    "-  That Is same Ron Howard Did when running the Taxi Example"
   ]
  },
  {
   "cell_type": "markdown",
   "metadata": {},
   "source": [
    "## Example of MDP MAtrix\n",
    "+-----+------------+------------+------------+------------+\n",
    "|     | (S1, A1)   | (S1, A2)   | (S2, A1)   | (S2, A2)   |\n",
    "+-----+------------+------------+------------+------------+\n",
    "| S1  | (0.7, 5)   | (0.3, 2)   | (0.1, 1)   | (0.9, 4)   |\n",
    "+-----+------------+------------+------------+------------+\n",
    "| S2  | (0.4, 3)   | (0.6, 1)   | (0.2, 2)   | (0.8, 3)   |\n",
    "+-----+------------+------------+------------+------------+\n"
   ]
  },
  {
   "cell_type": "code",
   "execution_count": null,
   "metadata": {},
   "outputs": [],
   "source": [
    "#All_states = [(alpha, beta) for alpha in range(self.user_capacity + 1)\n",
    "        #             for beta in range(self.user_capacity + 1 - alpha)]\n",
    "        #policy_0 = {}\n",
    "        #for state in All_states:\n",
    "        #    alpha, beta = state\n",
    "        #    policy_0[state] = self.user_capacity - (alpha + beta)\n",
    "        #return policy_0"
   ]
  }
 ],
 "metadata": {
  "kernelspec": {
   "display_name": "RL_finance",
   "language": "python",
   "name": "python3"
  },
  "language_info": {
   "codemirror_mode": {
    "name": "ipython",
    "version": 3
   },
   "file_extension": ".py",
   "mimetype": "text/x-python",
   "name": "python",
   "nbconvert_exporter": "python",
   "pygments_lexer": "ipython3",
   "version": "3.10.4"
  },
  "orig_nbformat": 4
 },
 "nbformat": 4,
 "nbformat_minor": 2
}
