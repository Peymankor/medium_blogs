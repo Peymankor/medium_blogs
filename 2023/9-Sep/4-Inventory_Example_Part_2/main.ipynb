{
 "cells": [
  {
   "cell_type": "markdown",
   "metadata": {},
   "source": [
    "## Inventory Optimization with Data Science: Hands-On Tutorial with Python\n",
    "\n",
    "### Part 2: A Gentle Introduction to Implementing the Markov Process for Inventory Optimization."
   ]
  },
  {
   "cell_type": "code",
   "execution_count": 14,
   "metadata": {},
   "outputs": [
    {
     "data": {
      "text/html": [
       "<pre style=\"white-space:pre;overflow-x:auto;line-height:normal;font-family:Menlo,'DejaVu Sans Mono',consolas,'Courier New',monospace\">\n",
       "<span style=\"font-weight: bold\">{</span>\n",
       "    <span style=\"color: #008000; text-decoration-color: #008000\">'Current State A'</span>: <span style=\"font-weight: bold\">{</span>\n",
       "        <span style=\"color: #008000; text-decoration-color: #008000\">'NextS1fromA'</span>: <span style=\"font-weight: bold\">(</span><span style=\"color: #008000; text-decoration-color: #008000\">'PNextS1fromA'</span>, <span style=\"color: #008000; text-decoration-color: #008000\">'Reward1'</span><span style=\"font-weight: bold\">)</span>,\n",
       "        <span style=\"color: #008000; text-decoration-color: #008000\">'NextS2fromA, from A'</span>: <span style=\"font-weight: bold\">(</span><span style=\"color: #008000; text-decoration-color: #008000\">'PNextS2fromA'</span>, <span style=\"color: #008000; text-decoration-color: #008000\">'Reward2'</span><span style=\"font-weight: bold\">)</span>\n",
       "    <span style=\"font-weight: bold\">}</span>,\n",
       "    <span style=\"color: #008000; text-decoration-color: #008000\">'Current State B'</span>: <span style=\"font-weight: bold\">{</span>\n",
       "        <span style=\"color: #008000; text-decoration-color: #008000\">'NextS1fromB'</span>: <span style=\"font-weight: bold\">(</span><span style=\"color: #008000; text-decoration-color: #008000\">'PNextS1fromB'</span>, <span style=\"color: #008000; text-decoration-color: #008000\">'Reward3'</span><span style=\"font-weight: bold\">)</span>,\n",
       "        <span style=\"color: #008000; text-decoration-color: #008000\">'NextS2fromB'</span>: <span style=\"font-weight: bold\">(</span><span style=\"color: #008000; text-decoration-color: #008000\">'PNextS2fromB'</span>, <span style=\"color: #008000; text-decoration-color: #008000\">'Reward4'</span><span style=\"font-weight: bold\">)</span>\n",
       "    <span style=\"font-weight: bold\">}</span>\n",
       "<span style=\"font-weight: bold\">}</span>\n",
       "</pre>\n"
      ],
      "text/plain": [
       "\n",
       "\u001b[1m{\u001b[0m\n",
       "    \u001b[32m'Current State A'\u001b[0m: \u001b[1m{\u001b[0m\n",
       "        \u001b[32m'NextS1fromA'\u001b[0m: \u001b[1m(\u001b[0m\u001b[32m'PNextS1fromA'\u001b[0m, \u001b[32m'Reward1'\u001b[0m\u001b[1m)\u001b[0m,\n",
       "        \u001b[32m'NextS2fromA, from A'\u001b[0m: \u001b[1m(\u001b[0m\u001b[32m'PNextS2fromA'\u001b[0m, \u001b[32m'Reward2'\u001b[0m\u001b[1m)\u001b[0m\n",
       "    \u001b[1m}\u001b[0m,\n",
       "    \u001b[32m'Current State B'\u001b[0m: \u001b[1m{\u001b[0m\n",
       "        \u001b[32m'NextS1fromB'\u001b[0m: \u001b[1m(\u001b[0m\u001b[32m'PNextS1fromB'\u001b[0m, \u001b[32m'Reward3'\u001b[0m\u001b[1m)\u001b[0m,\n",
       "        \u001b[32m'NextS2fromB'\u001b[0m: \u001b[1m(\u001b[0m\u001b[32m'PNextS2fromB'\u001b[0m, \u001b[32m'Reward4'\u001b[0m\u001b[1m)\u001b[0m\n",
       "    \u001b[1m}\u001b[0m\n",
       "\u001b[1m}\u001b[0m\n"
      ]
     },
     "metadata": {},
     "output_type": "display_data"
    }
   ],
   "source": [
    "from typing import Dict\n",
    "\n",
    "from rich import pretty\n",
    "pretty.install()\n",
    "\n",
    "MarkovRewProcessDict = {\"Current State A\":{\"NextS1fromA\": (\"PNextS1fromA\",\"Reward1\")\n",
    "                                           ,\"NextS2fromA, from A\": (\"PNextS2fromA\",\"Reward2\")},\n",
    "                    \n",
    "                     \"Current State B\":{\"NextS1fromB\": (\"PNextS1fromB\",\"Reward3\"),\n",
    "                                        \"NextS2fromB\": (\"PNextS2fromB\",\"Reward4\")}}\n",
    "\n",
    "MarkovRewProcessDict"
   ]
  },
  {
   "cell_type": "code",
   "execution_count": 15,
   "metadata": {},
   "outputs": [
    {
     "name": "stdout",
     "output_type": "stream",
     "text": [
      "The Current state is: Current State A\n",
      "The Next State is NextS1fromA \n",
      "with Probability of: PNextS1fromA                \n",
      "and Reward: Reward1\n",
      "The Next State is NextS2fromA, from A \n",
      "with Probability of: PNextS2fromA                \n",
      "and Reward: Reward2\n",
      "The Current state is: Current State B\n",
      "The Next State is NextS1fromB \n",
      "with Probability of: PNextS1fromB                \n",
      "and Reward: Reward3\n",
      "The Next State is NextS2fromB \n",
      "with Probability of: PNextS2fromB                \n",
      "and Reward: Reward4\n"
     ]
    }
   ],
   "source": [
    "for (state, value) in MarkovRewProcessDict.items():\n",
    "    \n",
    "    print(\"The Current state is: {}\".format(state))\n",
    "    \n",
    "    for (next_state, (trans_prob,reward)) in value.items():\n",
    "        \n",
    "        print(\"The Next State is {} \\nwith Probability of: {} \\\n",
    "               \\nand Reward: {}\".format(next_state, trans_prob, reward))\n",
    "    "
   ]
  },
  {
   "cell_type": "markdown",
   "metadata": {},
   "source": [
    "## Reward Modeling (two cases)"
   ]
  },
  {
   "cell_type": "markdown",
   "metadata": {},
   "source": [
    "- Case for \n",
    "- $0 \\leq i \\leq \\alpha + \\beta -1$ "
   ]
  },
  {
   "cell_type": "markdown",
   "metadata": {},
   "source": [
    "$$R((\\alpha , \\beta) \\to ((\\alpha + \\beta) -i, C-(\\alpha + \\beta) ) = -h\\alpha$$"
   ]
  },
  {
   "cell_type": "markdown",
   "metadata": {},
   "source": [
    "- For the case demand excedding $(\\alpha + \\beta)$"
   ]
  },
  {
   "cell_type": "markdown",
   "metadata": {},
   "source": [
    "- $$R((\\alpha , \\beta) \\to (0, C-(\\alpha + \\beta) ) = -h\\alpha -p(\\sum_{j=\\alpha + \\beta +1}^{\\infin}f(j)(j-(\\alpha +\\beta)))$$\n",
    "- $$=h\\alpha-p(\\lambda(1-F(\\alpha+\\beta-1)) - (\\alpha+\\beta)(1-F(\\alpha+\\beta)))$$"
   ]
  },
  {
   "cell_type": "code",
   "execution_count": 16,
   "metadata": {},
   "outputs": [],
   "source": [
    "# need numpy to do some numeric calculation\n",
    "import numpy as np\n",
    "\n",
    "# poisson is used to find pdf of Poisson distribution \n",
    "from scipy.stats import poisson"
   ]
  },
  {
   "cell_type": "code",
   "execution_count": 17,
   "metadata": {},
   "outputs": [],
   "source": [
    "\n",
    "MarkovRewProcessDict: Dict[tuple, Dict[tuple, tuple]] = {}\n",
    "\n",
    "user_capacity = 2\n",
    "user_poisson_lambda = 1.0\n",
    "\n",
    "holding_cost = 1\n",
    "stockout_cost = 10"
   ]
  },
  {
   "cell_type": "code",
   "execution_count": 18,
   "metadata": {},
   "outputs": [],
   "source": [
    "# We are condiering all possible states\n",
    "# That we can face in running this bike shop\n",
    "for alpha in range(user_capacity+1):                            \n",
    "                                                               \n",
    "    for beta in range(user_capacity + 1 - alpha):\n",
    "        \n",
    "        # This is St, the current state\n",
    "        state = (alpha, beta)                                   \n",
    "\n",
    "        # This is initial inventory, total bike you have at 8AM \n",
    "        initial_inventory = alpha + beta                         \n",
    "        \n",
    "        # The beta1 is the beta in next state, irrespctive of current state (as the decsion policy is constant)\n",
    "        beta1 = user_capacity - initial_inventory\n",
    "        \n",
    "        base_reward = -alpha* holding_cost\n",
    "        # List of all possible demand you can get\n",
    "        for i in range(initial_inventory +1):\n",
    "\n",
    "            # if initial demand can meet the demand\n",
    "            if i <= (initial_inventory-1):\n",
    "                \n",
    "                # probality of specifc demand can happen\n",
    "                transition_prob = poisson.pmf(i,user_poisson_lambda)\n",
    "                \n",
    "                # If we already defined teh state in our data (MarkovProcessDict)\n",
    "                if state in MarkovRewProcessDict:\n",
    "                    \n",
    "                    MarkovRewProcessDict[state][(initial_inventory - i, beta1)]= (transition_prob, base_reward)\n",
    "                \n",
    "                else:\n",
    "                    \n",
    "                    MarkovRewProcessDict[state] = {(initial_inventory - i, beta1):(transition_prob, base_reward)}\n",
    "                         \n",
    "            # if initial demand can not meet the demand\n",
    "            else:\n",
    "                \n",
    "                transition_prob = 1- poisson.cdf(initial_inventory -1, user_poisson_lambda)\n",
    "                # probability of not meeting the demands\n",
    "                transition_prob1 = 1- poisson.cdf(initial_inventory -1, user_poisson_lambda)\n",
    "                \n",
    "                # probability of not meeting the demands\n",
    "                transition_prob2 = 1- poisson.cdf(initial_inventory, user_poisson_lambda)\n",
    "                \n",
    "                # total reward\n",
    "                \n",
    "                reward = base_reward - stockout_cost\n",
    "                (user_poisson_lambda*transition_prob1) - \\\n",
    "                        initial_inventory*transition_prob2\n",
    "                \n",
    "                if state in MarkovRewProcessDict:\n",
    "                    \n",
    "                    MarkovRewProcessDict[state][(0, beta1)]= (transition_prob,reward)\n",
    "                    \n",
    "                else:\n",
    "\n",
    "                    MarkovRewProcessDict[state] = {(0, beta1 ):(transition_prob, reward)}"
   ]
  },
  {
   "cell_type": "code",
   "execution_count": 19,
   "metadata": {},
   "outputs": [
    {
     "name": "stdout",
     "output_type": "stream",
     "text": [
      "The Current state is: (0, 0)\n",
      "The Next State is (0, 2) \n",
      "with Probability of: 1.0                \n",
      "and Reward: -10\n",
      "The Current state is: (0, 1)\n",
      "The Next State is (1, 1) \n",
      "with Probability of: 0.3678794411714424                \n",
      "and Reward: 0\n",
      "The Next State is (0, 1) \n",
      "with Probability of: 0.6321205588285576                \n",
      "and Reward: -10\n",
      "The Current state is: (0, 2)\n",
      "The Next State is (2, 0) \n",
      "with Probability of: 0.3678794411714424                \n",
      "and Reward: 0\n",
      "The Next State is (1, 0) \n",
      "with Probability of: 0.3678794411714424                \n",
      "and Reward: 0\n",
      "The Next State is (0, 0) \n",
      "with Probability of: 0.26424111765711533                \n",
      "and Reward: -10\n",
      "The Current state is: (1, 0)\n",
      "The Next State is (1, 1) \n",
      "with Probability of: 0.3678794411714424                \n",
      "and Reward: -1\n",
      "The Next State is (0, 1) \n",
      "with Probability of: 0.6321205588285576                \n",
      "and Reward: -11\n",
      "The Current state is: (1, 1)\n",
      "The Next State is (2, 0) \n",
      "with Probability of: 0.3678794411714424                \n",
      "and Reward: -1\n",
      "The Next State is (1, 0) \n",
      "with Probability of: 0.3678794411714424                \n",
      "and Reward: -1\n",
      "The Next State is (0, 0) \n",
      "with Probability of: 0.26424111765711533                \n",
      "and Reward: -11\n",
      "The Current state is: (2, 0)\n",
      "The Next State is (2, 0) \n",
      "with Probability of: 0.3678794411714424                \n",
      "and Reward: -2\n",
      "The Next State is (1, 0) \n",
      "with Probability of: 0.3678794411714424                \n",
      "and Reward: -2\n",
      "The Next State is (0, 0) \n",
      "with Probability of: 0.26424111765711533                \n",
      "and Reward: -12\n"
     ]
    }
   ],
   "source": [
    "for (state, value) in MarkovRewProcessDict.items():\n",
    "    \n",
    "    print(\"The Current state is: {}\".format(state))\n",
    "    \n",
    "    for (next_state, (trans_prob,reward)) in value.items():\n",
    "        \n",
    "        print(\"The Next State is {} \\nwith Probability of: {} \\\n",
    "               \\nand Reward: {}\".format(next_state, trans_prob, reward))"
   ]
  },
  {
   "cell_type": "code",
   "execution_count": 20,
   "metadata": {},
   "outputs": [
    {
     "data": {
      "text/html": [
       "<pre style=\"white-space:pre;overflow-x:auto;line-height:normal;font-family:Menlo,'DejaVu Sans Mono',consolas,'Courier New',monospace\">\n",
       "<span style=\"font-weight: bold\">{</span>\n",
       "    <span style=\"font-weight: bold\">(</span><span style=\"color: #008080; text-decoration-color: #008080; font-weight: bold\">0</span>, <span style=\"color: #008080; text-decoration-color: #008080; font-weight: bold\">0</span><span style=\"font-weight: bold\">)</span>: <span style=\"font-weight: bold\">{(</span><span style=\"color: #008080; text-decoration-color: #008080; font-weight: bold\">0</span>, <span style=\"color: #008080; text-decoration-color: #008080; font-weight: bold\">2</span><span style=\"font-weight: bold\">)</span>: <span style=\"font-weight: bold\">(</span><span style=\"color: #008080; text-decoration-color: #008080; font-weight: bold\">1.0</span>, <span style=\"color: #008080; text-decoration-color: #008080; font-weight: bold\">-10</span><span style=\"font-weight: bold\">)}</span>,\n",
       "    <span style=\"font-weight: bold\">(</span><span style=\"color: #008080; text-decoration-color: #008080; font-weight: bold\">0</span>, <span style=\"color: #008080; text-decoration-color: #008080; font-weight: bold\">1</span><span style=\"font-weight: bold\">)</span>: <span style=\"font-weight: bold\">{</span>\n",
       "        <span style=\"font-weight: bold\">(</span><span style=\"color: #008080; text-decoration-color: #008080; font-weight: bold\">1</span>, <span style=\"color: #008080; text-decoration-color: #008080; font-weight: bold\">1</span><span style=\"font-weight: bold\">)</span>: <span style=\"font-weight: bold\">(</span><span style=\"color: #008080; text-decoration-color: #008080; font-weight: bold\">0.3678794411714424</span>, <span style=\"color: #008080; text-decoration-color: #008080; font-weight: bold\">0</span><span style=\"font-weight: bold\">)</span>,\n",
       "        <span style=\"font-weight: bold\">(</span><span style=\"color: #008080; text-decoration-color: #008080; font-weight: bold\">0</span>, <span style=\"color: #008080; text-decoration-color: #008080; font-weight: bold\">1</span><span style=\"font-weight: bold\">)</span>: <span style=\"font-weight: bold\">(</span><span style=\"color: #008080; text-decoration-color: #008080; font-weight: bold\">0.6321205588285576</span>, <span style=\"color: #008080; text-decoration-color: #008080; font-weight: bold\">-10</span><span style=\"font-weight: bold\">)</span>\n",
       "    <span style=\"font-weight: bold\">}</span>,\n",
       "    <span style=\"font-weight: bold\">(</span><span style=\"color: #008080; text-decoration-color: #008080; font-weight: bold\">0</span>, <span style=\"color: #008080; text-decoration-color: #008080; font-weight: bold\">2</span><span style=\"font-weight: bold\">)</span>: <span style=\"font-weight: bold\">{</span>\n",
       "        <span style=\"font-weight: bold\">(</span><span style=\"color: #008080; text-decoration-color: #008080; font-weight: bold\">2</span>, <span style=\"color: #008080; text-decoration-color: #008080; font-weight: bold\">0</span><span style=\"font-weight: bold\">)</span>: <span style=\"font-weight: bold\">(</span><span style=\"color: #008080; text-decoration-color: #008080; font-weight: bold\">0.3678794411714424</span>, <span style=\"color: #008080; text-decoration-color: #008080; font-weight: bold\">0</span><span style=\"font-weight: bold\">)</span>,\n",
       "        <span style=\"font-weight: bold\">(</span><span style=\"color: #008080; text-decoration-color: #008080; font-weight: bold\">1</span>, <span style=\"color: #008080; text-decoration-color: #008080; font-weight: bold\">0</span><span style=\"font-weight: bold\">)</span>: <span style=\"font-weight: bold\">(</span><span style=\"color: #008080; text-decoration-color: #008080; font-weight: bold\">0.3678794411714424</span>, <span style=\"color: #008080; text-decoration-color: #008080; font-weight: bold\">0</span><span style=\"font-weight: bold\">)</span>,\n",
       "        <span style=\"font-weight: bold\">(</span><span style=\"color: #008080; text-decoration-color: #008080; font-weight: bold\">0</span>, <span style=\"color: #008080; text-decoration-color: #008080; font-weight: bold\">0</span><span style=\"font-weight: bold\">)</span>: <span style=\"font-weight: bold\">(</span><span style=\"color: #008080; text-decoration-color: #008080; font-weight: bold\">0.26424111765711533</span>, <span style=\"color: #008080; text-decoration-color: #008080; font-weight: bold\">-10</span><span style=\"font-weight: bold\">)</span>\n",
       "    <span style=\"font-weight: bold\">}</span>,\n",
       "    <span style=\"font-weight: bold\">(</span><span style=\"color: #008080; text-decoration-color: #008080; font-weight: bold\">1</span>, <span style=\"color: #008080; text-decoration-color: #008080; font-weight: bold\">0</span><span style=\"font-weight: bold\">)</span>: <span style=\"font-weight: bold\">{</span>\n",
       "        <span style=\"font-weight: bold\">(</span><span style=\"color: #008080; text-decoration-color: #008080; font-weight: bold\">1</span>, <span style=\"color: #008080; text-decoration-color: #008080; font-weight: bold\">1</span><span style=\"font-weight: bold\">)</span>: <span style=\"font-weight: bold\">(</span><span style=\"color: #008080; text-decoration-color: #008080; font-weight: bold\">0.3678794411714424</span>, <span style=\"color: #008080; text-decoration-color: #008080; font-weight: bold\">-1</span><span style=\"font-weight: bold\">)</span>,\n",
       "        <span style=\"font-weight: bold\">(</span><span style=\"color: #008080; text-decoration-color: #008080; font-weight: bold\">0</span>, <span style=\"color: #008080; text-decoration-color: #008080; font-weight: bold\">1</span><span style=\"font-weight: bold\">)</span>: <span style=\"font-weight: bold\">(</span><span style=\"color: #008080; text-decoration-color: #008080; font-weight: bold\">0.6321205588285576</span>, <span style=\"color: #008080; text-decoration-color: #008080; font-weight: bold\">-11</span><span style=\"font-weight: bold\">)</span>\n",
       "    <span style=\"font-weight: bold\">}</span>,\n",
       "    <span style=\"font-weight: bold\">(</span><span style=\"color: #008080; text-decoration-color: #008080; font-weight: bold\">1</span>, <span style=\"color: #008080; text-decoration-color: #008080; font-weight: bold\">1</span><span style=\"font-weight: bold\">)</span>: <span style=\"font-weight: bold\">{</span>\n",
       "        <span style=\"font-weight: bold\">(</span><span style=\"color: #008080; text-decoration-color: #008080; font-weight: bold\">2</span>, <span style=\"color: #008080; text-decoration-color: #008080; font-weight: bold\">0</span><span style=\"font-weight: bold\">)</span>: <span style=\"font-weight: bold\">(</span><span style=\"color: #008080; text-decoration-color: #008080; font-weight: bold\">0.3678794411714424</span>, <span style=\"color: #008080; text-decoration-color: #008080; font-weight: bold\">-1</span><span style=\"font-weight: bold\">)</span>,\n",
       "        <span style=\"font-weight: bold\">(</span><span style=\"color: #008080; text-decoration-color: #008080; font-weight: bold\">1</span>, <span style=\"color: #008080; text-decoration-color: #008080; font-weight: bold\">0</span><span style=\"font-weight: bold\">)</span>: <span style=\"font-weight: bold\">(</span><span style=\"color: #008080; text-decoration-color: #008080; font-weight: bold\">0.3678794411714424</span>, <span style=\"color: #008080; text-decoration-color: #008080; font-weight: bold\">-1</span><span style=\"font-weight: bold\">)</span>,\n",
       "        <span style=\"font-weight: bold\">(</span><span style=\"color: #008080; text-decoration-color: #008080; font-weight: bold\">0</span>, <span style=\"color: #008080; text-decoration-color: #008080; font-weight: bold\">0</span><span style=\"font-weight: bold\">)</span>: <span style=\"font-weight: bold\">(</span><span style=\"color: #008080; text-decoration-color: #008080; font-weight: bold\">0.26424111765711533</span>, <span style=\"color: #008080; text-decoration-color: #008080; font-weight: bold\">-11</span><span style=\"font-weight: bold\">)</span>\n",
       "    <span style=\"font-weight: bold\">}</span>,\n",
       "    <span style=\"font-weight: bold\">(</span><span style=\"color: #008080; text-decoration-color: #008080; font-weight: bold\">2</span>, <span style=\"color: #008080; text-decoration-color: #008080; font-weight: bold\">0</span><span style=\"font-weight: bold\">)</span>: <span style=\"font-weight: bold\">{</span>\n",
       "        <span style=\"font-weight: bold\">(</span><span style=\"color: #008080; text-decoration-color: #008080; font-weight: bold\">2</span>, <span style=\"color: #008080; text-decoration-color: #008080; font-weight: bold\">0</span><span style=\"font-weight: bold\">)</span>: <span style=\"font-weight: bold\">(</span><span style=\"color: #008080; text-decoration-color: #008080; font-weight: bold\">0.3678794411714424</span>, <span style=\"color: #008080; text-decoration-color: #008080; font-weight: bold\">-2</span><span style=\"font-weight: bold\">)</span>,\n",
       "        <span style=\"font-weight: bold\">(</span><span style=\"color: #008080; text-decoration-color: #008080; font-weight: bold\">1</span>, <span style=\"color: #008080; text-decoration-color: #008080; font-weight: bold\">0</span><span style=\"font-weight: bold\">)</span>: <span style=\"font-weight: bold\">(</span><span style=\"color: #008080; text-decoration-color: #008080; font-weight: bold\">0.3678794411714424</span>, <span style=\"color: #008080; text-decoration-color: #008080; font-weight: bold\">-2</span><span style=\"font-weight: bold\">)</span>,\n",
       "        <span style=\"font-weight: bold\">(</span><span style=\"color: #008080; text-decoration-color: #008080; font-weight: bold\">0</span>, <span style=\"color: #008080; text-decoration-color: #008080; font-weight: bold\">0</span><span style=\"font-weight: bold\">)</span>: <span style=\"font-weight: bold\">(</span><span style=\"color: #008080; text-decoration-color: #008080; font-weight: bold\">0.26424111765711533</span>, <span style=\"color: #008080; text-decoration-color: #008080; font-weight: bold\">-12</span><span style=\"font-weight: bold\">)</span>\n",
       "    <span style=\"font-weight: bold\">}</span>\n",
       "<span style=\"font-weight: bold\">}</span>\n",
       "</pre>\n"
      ],
      "text/plain": [
       "\n",
       "\u001b[1m{\u001b[0m\n",
       "    \u001b[1m(\u001b[0m\u001b[1;36m0\u001b[0m, \u001b[1;36m0\u001b[0m\u001b[1m)\u001b[0m: \u001b[1m{\u001b[0m\u001b[1m(\u001b[0m\u001b[1;36m0\u001b[0m, \u001b[1;36m2\u001b[0m\u001b[1m)\u001b[0m: \u001b[1m(\u001b[0m\u001b[1;36m1.0\u001b[0m, \u001b[1;36m-10\u001b[0m\u001b[1m)\u001b[0m\u001b[1m}\u001b[0m,\n",
       "    \u001b[1m(\u001b[0m\u001b[1;36m0\u001b[0m, \u001b[1;36m1\u001b[0m\u001b[1m)\u001b[0m: \u001b[1m{\u001b[0m\n",
       "        \u001b[1m(\u001b[0m\u001b[1;36m1\u001b[0m, \u001b[1;36m1\u001b[0m\u001b[1m)\u001b[0m: \u001b[1m(\u001b[0m\u001b[1;36m0.3678794411714424\u001b[0m, \u001b[1;36m0\u001b[0m\u001b[1m)\u001b[0m,\n",
       "        \u001b[1m(\u001b[0m\u001b[1;36m0\u001b[0m, \u001b[1;36m1\u001b[0m\u001b[1m)\u001b[0m: \u001b[1m(\u001b[0m\u001b[1;36m0.6321205588285576\u001b[0m, \u001b[1;36m-10\u001b[0m\u001b[1m)\u001b[0m\n",
       "    \u001b[1m}\u001b[0m,\n",
       "    \u001b[1m(\u001b[0m\u001b[1;36m0\u001b[0m, \u001b[1;36m2\u001b[0m\u001b[1m)\u001b[0m: \u001b[1m{\u001b[0m\n",
       "        \u001b[1m(\u001b[0m\u001b[1;36m2\u001b[0m, \u001b[1;36m0\u001b[0m\u001b[1m)\u001b[0m: \u001b[1m(\u001b[0m\u001b[1;36m0.3678794411714424\u001b[0m, \u001b[1;36m0\u001b[0m\u001b[1m)\u001b[0m,\n",
       "        \u001b[1m(\u001b[0m\u001b[1;36m1\u001b[0m, \u001b[1;36m0\u001b[0m\u001b[1m)\u001b[0m: \u001b[1m(\u001b[0m\u001b[1;36m0.3678794411714424\u001b[0m, \u001b[1;36m0\u001b[0m\u001b[1m)\u001b[0m,\n",
       "        \u001b[1m(\u001b[0m\u001b[1;36m0\u001b[0m, \u001b[1;36m0\u001b[0m\u001b[1m)\u001b[0m: \u001b[1m(\u001b[0m\u001b[1;36m0.26424111765711533\u001b[0m, \u001b[1;36m-10\u001b[0m\u001b[1m)\u001b[0m\n",
       "    \u001b[1m}\u001b[0m,\n",
       "    \u001b[1m(\u001b[0m\u001b[1;36m1\u001b[0m, \u001b[1;36m0\u001b[0m\u001b[1m)\u001b[0m: \u001b[1m{\u001b[0m\n",
       "        \u001b[1m(\u001b[0m\u001b[1;36m1\u001b[0m, \u001b[1;36m1\u001b[0m\u001b[1m)\u001b[0m: \u001b[1m(\u001b[0m\u001b[1;36m0.3678794411714424\u001b[0m, \u001b[1;36m-1\u001b[0m\u001b[1m)\u001b[0m,\n",
       "        \u001b[1m(\u001b[0m\u001b[1;36m0\u001b[0m, \u001b[1;36m1\u001b[0m\u001b[1m)\u001b[0m: \u001b[1m(\u001b[0m\u001b[1;36m0.6321205588285576\u001b[0m, \u001b[1;36m-11\u001b[0m\u001b[1m)\u001b[0m\n",
       "    \u001b[1m}\u001b[0m,\n",
       "    \u001b[1m(\u001b[0m\u001b[1;36m1\u001b[0m, \u001b[1;36m1\u001b[0m\u001b[1m)\u001b[0m: \u001b[1m{\u001b[0m\n",
       "        \u001b[1m(\u001b[0m\u001b[1;36m2\u001b[0m, \u001b[1;36m0\u001b[0m\u001b[1m)\u001b[0m: \u001b[1m(\u001b[0m\u001b[1;36m0.3678794411714424\u001b[0m, \u001b[1;36m-1\u001b[0m\u001b[1m)\u001b[0m,\n",
       "        \u001b[1m(\u001b[0m\u001b[1;36m1\u001b[0m, \u001b[1;36m0\u001b[0m\u001b[1m)\u001b[0m: \u001b[1m(\u001b[0m\u001b[1;36m0.3678794411714424\u001b[0m, \u001b[1;36m-1\u001b[0m\u001b[1m)\u001b[0m,\n",
       "        \u001b[1m(\u001b[0m\u001b[1;36m0\u001b[0m, \u001b[1;36m0\u001b[0m\u001b[1m)\u001b[0m: \u001b[1m(\u001b[0m\u001b[1;36m0.26424111765711533\u001b[0m, \u001b[1;36m-11\u001b[0m\u001b[1m)\u001b[0m\n",
       "    \u001b[1m}\u001b[0m,\n",
       "    \u001b[1m(\u001b[0m\u001b[1;36m2\u001b[0m, \u001b[1;36m0\u001b[0m\u001b[1m)\u001b[0m: \u001b[1m{\u001b[0m\n",
       "        \u001b[1m(\u001b[0m\u001b[1;36m2\u001b[0m, \u001b[1;36m0\u001b[0m\u001b[1m)\u001b[0m: \u001b[1m(\u001b[0m\u001b[1;36m0.3678794411714424\u001b[0m, \u001b[1;36m-2\u001b[0m\u001b[1m)\u001b[0m,\n",
       "        \u001b[1m(\u001b[0m\u001b[1;36m1\u001b[0m, \u001b[1;36m0\u001b[0m\u001b[1m)\u001b[0m: \u001b[1m(\u001b[0m\u001b[1;36m0.3678794411714424\u001b[0m, \u001b[1;36m-2\u001b[0m\u001b[1m)\u001b[0m,\n",
       "        \u001b[1m(\u001b[0m\u001b[1;36m0\u001b[0m, \u001b[1;36m0\u001b[0m\u001b[1m)\u001b[0m: \u001b[1m(\u001b[0m\u001b[1;36m0.26424111765711533\u001b[0m, \u001b[1;36m-12\u001b[0m\u001b[1m)\u001b[0m\n",
       "    \u001b[1m}\u001b[0m\n",
       "\u001b[1m}\u001b[0m\n"
      ]
     },
     "metadata": {},
     "output_type": "display_data"
    }
   ],
   "source": [
    "MarkovRewProcessDict"
   ]
  },
  {
   "cell_type": "code",
   "execution_count": 35,
   "metadata": {},
   "outputs": [],
   "source": [
    "list_states = MarkovRewProcessDict.keys()"
   ]
  },
  {
   "cell_type": "code",
   "execution_count": 36,
   "metadata": {},
   "outputs": [
    {
     "data": {
      "text/html": [
       "<pre style=\"white-space:pre;overflow-x:auto;line-height:normal;font-family:Menlo,'DejaVu Sans Mono',consolas,'Courier New',monospace\"><span style=\"color: #800080; text-decoration-color: #800080; font-weight: bold\">dict_keys</span><span style=\"font-weight: bold\">([(</span><span style=\"color: #008080; text-decoration-color: #008080; font-weight: bold\">0</span>, <span style=\"color: #008080; text-decoration-color: #008080; font-weight: bold\">0</span><span style=\"font-weight: bold\">)</span>, <span style=\"font-weight: bold\">(</span><span style=\"color: #008080; text-decoration-color: #008080; font-weight: bold\">0</span>, <span style=\"color: #008080; text-decoration-color: #008080; font-weight: bold\">1</span><span style=\"font-weight: bold\">)</span>, <span style=\"font-weight: bold\">(</span><span style=\"color: #008080; text-decoration-color: #008080; font-weight: bold\">0</span>, <span style=\"color: #008080; text-decoration-color: #008080; font-weight: bold\">2</span><span style=\"font-weight: bold\">)</span>, <span style=\"font-weight: bold\">(</span><span style=\"color: #008080; text-decoration-color: #008080; font-weight: bold\">1</span>, <span style=\"color: #008080; text-decoration-color: #008080; font-weight: bold\">0</span><span style=\"font-weight: bold\">)</span>, <span style=\"font-weight: bold\">(</span><span style=\"color: #008080; text-decoration-color: #008080; font-weight: bold\">1</span>, <span style=\"color: #008080; text-decoration-color: #008080; font-weight: bold\">1</span><span style=\"font-weight: bold\">)</span>, <span style=\"font-weight: bold\">(</span><span style=\"color: #008080; text-decoration-color: #008080; font-weight: bold\">2</span>, <span style=\"color: #008080; text-decoration-color: #008080; font-weight: bold\">0</span><span style=\"font-weight: bold\">)])</span>\n",
       "</pre>\n"
      ],
      "text/plain": [
       "\u001b[1;35mdict_keys\u001b[0m\u001b[1m(\u001b[0m\u001b[1m[\u001b[0m\u001b[1m(\u001b[0m\u001b[1;36m0\u001b[0m, \u001b[1;36m0\u001b[0m\u001b[1m)\u001b[0m, \u001b[1m(\u001b[0m\u001b[1;36m0\u001b[0m, \u001b[1;36m1\u001b[0m\u001b[1m)\u001b[0m, \u001b[1m(\u001b[0m\u001b[1;36m0\u001b[0m, \u001b[1;36m2\u001b[0m\u001b[1m)\u001b[0m, \u001b[1m(\u001b[0m\u001b[1;36m1\u001b[0m, \u001b[1;36m0\u001b[0m\u001b[1m)\u001b[0m, \u001b[1m(\u001b[0m\u001b[1;36m1\u001b[0m, \u001b[1;36m1\u001b[0m\u001b[1m)\u001b[0m, \u001b[1m(\u001b[0m\u001b[1;36m2\u001b[0m, \u001b[1;36m0\u001b[0m\u001b[1m)\u001b[0m\u001b[1m]\u001b[0m\u001b[1m)\u001b[0m\n"
      ]
     },
     "metadata": {},
     "output_type": "display_data"
    }
   ],
   "source": [
    "list_states"
   ]
  },
  {
   "cell_type": "code",
   "execution_count": 41,
   "metadata": {},
   "outputs": [
    {
     "data": {
      "text/html": [
       "<pre style=\"white-space:pre;overflow-x:auto;line-height:normal;font-family:Menlo,'DejaVu Sans Mono',consolas,'Courier New',monospace\"><span style=\"color: #008080; text-decoration-color: #008080; font-weight: bold\">1.0</span>\n",
       "</pre>\n"
      ],
      "text/plain": [
       "\u001b[1;36m1.0\u001b[0m\n"
      ]
     },
     "metadata": {},
     "output_type": "display_data"
    }
   ],
   "source": [
    "MarkovRewProcessDict[(0,0)][(0,2)][0]"
   ]
  },
  {
   "cell_type": "code",
   "execution_count": 37,
   "metadata": {},
   "outputs": [
    {
     "name": "stdout",
     "output_type": "stream",
     "text": [
      "0\n",
      "(0, 0)\n",
      "1\n",
      "(0, 1)\n",
      "2\n",
      "(0, 2)\n",
      "3\n",
      "(1, 0)\n",
      "4\n",
      "(1, 1)\n",
      "5\n",
      "(2, 0)\n"
     ]
    }
   ],
   "source": [
    "for i, s in enumerate(list_states):\n",
    "    for j, s1 in enumerate(list_states):\n",
    "\n",
    "        \n",
    "\n",
    "    print(i)\n",
    "\n",
    "    print(s)\n",
    "    #for j, s1 in enumerate(MarkovRewProcessDict.values()):\n",
    "    #    print(j)\n",
    "    #    print(s1)"
   ]
  },
  {
   "cell_type": "code",
   "execution_count": 22,
   "metadata": {},
   "outputs": [
    {
     "name": "stdout",
     "output_type": "stream",
     "text": [
      "(0, 0)\n",
      "(0, 1)\n",
      "(0, 2)\n",
      "(1, 0)\n",
      "(1, 1)\n",
      "(2, 0)\n"
     ]
    }
   ],
   "source": [
    "for s, k in MarkovRewProcessDict.items():\n",
    "    print(s)"
   ]
  },
  {
   "cell_type": "code",
   "execution_count": 23,
   "metadata": {},
   "outputs": [
    {
     "name": "stdout",
     "output_type": "stream",
     "text": [
      "[[{(0, 2): (1.0, -10)}\n",
      "  {(1, 1): (0.3678794411714424, 0), (0, 1): (0.6321205588285576, -10)}]]\n"
     ]
    }
   ],
   "source": [
    "import numpy as np\n",
    "\n",
    "# Your dictionary\n",
    "data_dict = {\n",
    "    (0, 0): {(0, 2): (1.0, -10)},\n",
    "    (0, 1): {\n",
    "        (1, 1): (0.3678794411714424, 0),\n",
    "        (0, 1): (0.6321205588285576, -10)\n",
    "    },\n",
    "    # ... (the rest of your dictionary)\n",
    "}\n",
    "\n",
    "# Extract unique row and column keys\n",
    "row_keys = sorted(set(key[0] for key in data_dict.keys()))\n",
    "col_keys = sorted(set(key[1] for key in data_dict.keys()))\n",
    "\n",
    "# Initialize an empty matrix with NaN values\n",
    "matrix = np.empty((len(row_keys), len(col_keys)), dtype=object)\n",
    "matrix[:] = np.nan\n",
    "\n",
    "# Populate the matrix with probabilities from the dictionary\n",
    "for row_idx, row_key in enumerate(row_keys):\n",
    "    for col_idx, col_key in enumerate(col_keys):\n",
    "        if (row_key, col_key) in data_dict:\n",
    "            probabilities = data_dict[(row_key, col_key)]\n",
    "            matrix[row_idx, col_idx] = probabilities\n",
    "\n",
    "print(matrix)\n"
   ]
  },
  {
   "cell_type": "code",
   "execution_count": 24,
   "metadata": {},
   "outputs": [
    {
     "name": "stdout",
     "output_type": "stream",
     "text": [
      "[[1. 2.]\n",
      " [3. 4.]]\n"
     ]
    }
   ],
   "source": [
    "import numpy as np\n",
    "\n",
    "# Create a dictionary\n",
    "my_dict = {\n",
    "    (0, 0): 1,\n",
    "    (0, 1): 2,\n",
    "    (1, 0): 3,\n",
    "    (1, 1): 4\n",
    "}\n",
    "\n",
    "# Extract keys and values from the dictionary\n",
    "keys = list(my_dict.keys())\n",
    "values = list(my_dict.values())\n",
    "\n",
    "# Determine the dimensions of the matrix\n",
    "n_rows = len(set(key[0] for key in keys))\n",
    "n_cols = len(set(key[1] for key in keys))\n",
    "\n",
    "# Create an empty matrix filled with zeros\n",
    "matrix = np.zeros((n_rows, n_cols))\n",
    "\n",
    "# Populate the matrix with values from the dictionary\n",
    "for key, value in zip(keys, values):\n",
    "    matrix[key[0], key[1]] = value\n",
    "\n",
    "print(matrix)\n"
   ]
  }
 ],
 "metadata": {
  "kernelspec": {
   "display_name": "RL_finance",
   "language": "python",
   "name": "python3"
  },
  "language_info": {
   "codemirror_mode": {
    "name": "ipython",
    "version": 3
   },
   "file_extension": ".py",
   "mimetype": "text/x-python",
   "name": "python",
   "nbconvert_exporter": "python",
   "pygments_lexer": "ipython3",
   "version": "3.10.4"
  },
  "orig_nbformat": 4
 },
 "nbformat": 4,
 "nbformat_minor": 2
}
